{
  "cells": [
    {
      "cell_type": "markdown",
      "metadata": {
        "id": "PMOx5s3pmgsc"
      },
      "source": [
        "# **Importing Libraries**"
      ]
    },
    {
      "cell_type": "code",
      "execution_count": null,
      "metadata": {
        "id": "24al84lVDyeP"
      },
      "outputs": [],
      "source": [
        "#Import libraries for Data Preprocessing & Data Augmentation\n",
        "import os\n",
        "import PIL\n",
        "import numpy as np\n",
        "import cv2\n",
        "import matplotlib.pyplot as plt\n",
        "import tensorflow as tf\n",
        "from pathlib import Path\n",
        "from skimage import io\n",
        "from PIL import Image\n",
        "from keras.preprocessing.image import ImageDataGenerator\n",
        "\n",
        "#Import libraries for Model Implementation\n",
        "from sklearn.model_selection import train_test_split\n",
        "from sklearn.metrics import classification_report\n",
        "from tensorflow import keras\n",
        "from keras import layers, optimizers\n",
        "from keras.layers import Input, Flatten\n",
        "from keras.models import Sequential, Model\n",
        "#from keras_tuner import RandomSearch\n",
        "#from keras.tuner.engine.hyperparameters import HyperParameters\n",
        "from keras.applications.resnet import ResNet50\n",
        "from keras.applications.densenet import DenseNet201\n",
        "from keras.applications.vgg16 import VGG16\n",
        "from keras.applications.xception import Xception\n",
        "import warnings\n",
        "warnings.simplefilter(\"ignore\")"
      ]
    },
    {
      "cell_type": "markdown",
      "metadata": {
        "id": "Ih8KwKEPmfCv"
      },
      "source": [
        "# **Loading and transforming dataset**"
      ]
    },
    {
      "cell_type": "code",
      "execution_count": null,
      "metadata": {
        "id": "0mwz56w4m1LE"
      },
      "outputs": [],
      "source": [
        "def extract_feature(path, label):         #Load the images from given path and labeling\n",
        "    data = []\n",
        "    for img in os.listdir(path):\n",
        "        image = cv2.imread(os.path.join(path, img), 0)\n",
        "        if image is not None:\n",
        "            data.append([image, label])\n",
        "    return data\n",
        "\n",
        "def transform_feature(data):              #Transform dataset using resize, rescale, reshape\n",
        "    images, labels = [],[]\n",
        "    size = 128\n",
        "    for img,label in data:\n",
        "        images.append((cv2.resize(img,(size,size)))/255)\n",
        "        labels.append(label)\n",
        "    img_array = np.array(images)\n",
        "    X = img_array.reshape(img_array.shape[0],img_array.shape[1],img_array.shape[2],1)\n",
        "    return X, labels\n",
        "\n",
        "def vgg_transform_feature(data):         #Transform dataset using resize, rescale, reshape for Xception model\n",
        "    images, labels = [],[]\n",
        "    size = 299\n",
        "    for img,label in data:\n",
        "        images.append((cv2.resize(img,(size,size)))/255)\n",
        "        labels.append(label)\n",
        "    img_array = np.array(images)\n",
        "    X = img_array.reshape(img_array.shape[0],img_array.shape[1],img_array.shape[2],1)\n",
        "    return X, labels"
      ]
    },
    {
      "cell_type": "code",
      "execution_count": null,
      "metadata": {
        "id": "98PFP44DsHdJ"
      },
      "outputs": [],
      "source": [
        "data = extract_feature(\"/content/drive/MyDrive/BREAST_CANCER/DETECT/benign\",0) #Call the function to load images with label\n",
        "data.extend(extract_feature(\"/content/drive/MyDrive/BREAST_CANCER/DETECT/malignant\",1))"
      ]
    },
    {
      "cell_type": "code",
      "execution_count": null,
      "metadata": {
        "colab": {
          "base_uri": "https://localhost:8080/"
        },
        "id": "9TQqgR-jm9iY",
        "outputId": "a4c805d2-deda-4416-c55c-98dd962de492"
      },
      "outputs": [
        {
          "output_type": "execute_result",
          "data": {
            "text/plain": [
              "(1312, 128, 128, 1)"
            ]
          },
          "metadata": {},
          "execution_count": 5
        }
      ],
      "source": [
        "X, labels = transform_feature(data)   #Call the function to transform and return with image array & label\n",
        "X.shape"
      ]
    },
    {
      "cell_type": "code",
      "execution_count": null,
      "metadata": {
        "id": "4H2HBofZnAhA"
      },
      "outputs": [],
      "source": [
        "X_train, X_test, Y_train, Y_test = train_test_split(X , labels, train_size=0.75, random_state=42)"
      ]
    },
    {
      "cell_type": "markdown",
      "metadata": {
        "id": "Ol47eGKxnD1w"
      },
      "source": [
        "# **Augmented Data**"
      ]
    },
    {
      "cell_type": "markdown",
      "metadata": {
        "id": "TrslD_iwnI4J"
      },
      "source": [
        "**Generator for augmenting data**"
      ]
    },
    {
      "cell_type": "code",
      "execution_count": null,
      "metadata": {
        "colab": {
          "base_uri": "https://localhost:8080/",
          "height": 399
        },
        "id": "FE1m26JZnNC3",
        "outputId": "608c1589-6191-4f8a-e4c2-7be3e8ab55f4"
      },
      "outputs": [
        {
          "output_type": "error",
          "ename": "ValueError",
          "evalue": "ignored",
          "traceback": [
            "\u001b[0;31m---------------------------------------------------------------------------\u001b[0m",
            "\u001b[0;31mValueError\u001b[0m                                Traceback (most recent call last)",
            "\u001b[0;32m<ipython-input-7-48b5e7648e94>\u001b[0m in \u001b[0;36m<cell line: 11>\u001b[0;34m()\u001b[0m\n\u001b[1;32m     12\u001b[0m     \u001b[0;32mif\u001b[0m \u001b[0;34m(\u001b[0m\u001b[0mimg_name\u001b[0m\u001b[0;34m.\u001b[0m\u001b[0msplit\u001b[0m\u001b[0;34m(\u001b[0m\u001b[0;34m'.'\u001b[0m\u001b[0;34m)\u001b[0m\u001b[0;34m[\u001b[0m\u001b[0;36m1\u001b[0m\u001b[0;34m]\u001b[0m \u001b[0;34m==\u001b[0m \u001b[0;34m'png'\u001b[0m\u001b[0;34m)\u001b[0m\u001b[0;34m:\u001b[0m\u001b[0;34m\u001b[0m\u001b[0;34m\u001b[0m\u001b[0m\n\u001b[1;32m     13\u001b[0m         \u001b[0mimg\u001b[0m \u001b[0;34m=\u001b[0m \u001b[0mio\u001b[0m\u001b[0;34m.\u001b[0m\u001b[0mimread\u001b[0m\u001b[0;34m(\u001b[0m\u001b[0mcnt_path\u001b[0m \u001b[0;34m+\u001b[0m \u001b[0mimg_name\u001b[0m\u001b[0;34m)\u001b[0m\u001b[0;34m\u001b[0m\u001b[0;34m\u001b[0m\u001b[0m\n\u001b[0;32m---> 14\u001b[0;31m         \u001b[0mimg\u001b[0m \u001b[0;34m=\u001b[0m \u001b[0mImage\u001b[0m\u001b[0;34m.\u001b[0m\u001b[0mfromarray\u001b[0m\u001b[0;34m(\u001b[0m\u001b[0mimg\u001b[0m\u001b[0;34m,\u001b[0m \u001b[0;34m'RGB'\u001b[0m\u001b[0;34m)\u001b[0m\u001b[0;34m\u001b[0m\u001b[0;34m\u001b[0m\u001b[0m\n\u001b[0m\u001b[1;32m     15\u001b[0m         \u001b[0mimg\u001b[0m \u001b[0;34m=\u001b[0m \u001b[0mimg\u001b[0m\u001b[0;34m.\u001b[0m\u001b[0mresize\u001b[0m\u001b[0;34m(\u001b[0m\u001b[0;34m(\u001b[0m\u001b[0msize\u001b[0m\u001b[0;34m,\u001b[0m\u001b[0msize\u001b[0m\u001b[0;34m)\u001b[0m\u001b[0;34m)\u001b[0m\u001b[0;34m\u001b[0m\u001b[0;34m\u001b[0m\u001b[0m\n\u001b[1;32m     16\u001b[0m         \u001b[0mimg_list\u001b[0m\u001b[0;34m.\u001b[0m\u001b[0mappend\u001b[0m\u001b[0;34m(\u001b[0m\u001b[0mnp\u001b[0m\u001b[0;34m.\u001b[0m\u001b[0marray\u001b[0m\u001b[0;34m(\u001b[0m\u001b[0mimg\u001b[0m\u001b[0;34m)\u001b[0m\u001b[0;34m)\u001b[0m\u001b[0;34m\u001b[0m\u001b[0;34m\u001b[0m\u001b[0m\n",
            "\u001b[0;32m/usr/local/lib/python3.10/dist-packages/PIL/Image.py\u001b[0m in \u001b[0;36mfromarray\u001b[0;34m(obj, mode)\u001b[0m\n\u001b[1;32m   2854\u001b[0m             \u001b[0mobj\u001b[0m \u001b[0;34m=\u001b[0m \u001b[0mobj\u001b[0m\u001b[0;34m.\u001b[0m\u001b[0mtostring\u001b[0m\u001b[0;34m(\u001b[0m\u001b[0;34m)\u001b[0m\u001b[0;34m\u001b[0m\u001b[0;34m\u001b[0m\u001b[0m\n\u001b[1;32m   2855\u001b[0m \u001b[0;34m\u001b[0m\u001b[0m\n\u001b[0;32m-> 2856\u001b[0;31m     \u001b[0;32mreturn\u001b[0m \u001b[0mfrombuffer\u001b[0m\u001b[0;34m(\u001b[0m\u001b[0mmode\u001b[0m\u001b[0;34m,\u001b[0m \u001b[0msize\u001b[0m\u001b[0;34m,\u001b[0m \u001b[0mobj\u001b[0m\u001b[0;34m,\u001b[0m \u001b[0;34m\"raw\"\u001b[0m\u001b[0;34m,\u001b[0m \u001b[0mrawmode\u001b[0m\u001b[0;34m,\u001b[0m \u001b[0;36m0\u001b[0m\u001b[0;34m,\u001b[0m \u001b[0;36m1\u001b[0m\u001b[0;34m)\u001b[0m\u001b[0;34m\u001b[0m\u001b[0;34m\u001b[0m\u001b[0m\n\u001b[0m\u001b[1;32m   2857\u001b[0m \u001b[0;34m\u001b[0m\u001b[0m\n\u001b[1;32m   2858\u001b[0m \u001b[0;34m\u001b[0m\u001b[0m\n",
            "\u001b[0;32m/usr/local/lib/python3.10/dist-packages/PIL/Image.py\u001b[0m in \u001b[0;36mfrombuffer\u001b[0;34m(mode, size, data, decoder_name, *args)\u001b[0m\n\u001b[1;32m   2794\u001b[0m             \u001b[0;32mreturn\u001b[0m \u001b[0mim\u001b[0m\u001b[0;34m\u001b[0m\u001b[0;34m\u001b[0m\u001b[0m\n\u001b[1;32m   2795\u001b[0m \u001b[0;34m\u001b[0m\u001b[0m\n\u001b[0;32m-> 2796\u001b[0;31m     \u001b[0;32mreturn\u001b[0m \u001b[0mfrombytes\u001b[0m\u001b[0;34m(\u001b[0m\u001b[0mmode\u001b[0m\u001b[0;34m,\u001b[0m \u001b[0msize\u001b[0m\u001b[0;34m,\u001b[0m \u001b[0mdata\u001b[0m\u001b[0;34m,\u001b[0m \u001b[0mdecoder_name\u001b[0m\u001b[0;34m,\u001b[0m \u001b[0margs\u001b[0m\u001b[0;34m)\u001b[0m\u001b[0;34m\u001b[0m\u001b[0;34m\u001b[0m\u001b[0m\n\u001b[0m\u001b[1;32m   2797\u001b[0m \u001b[0;34m\u001b[0m\u001b[0m\n\u001b[1;32m   2798\u001b[0m \u001b[0;34m\u001b[0m\u001b[0m\n",
            "\u001b[0;32m/usr/local/lib/python3.10/dist-packages/PIL/Image.py\u001b[0m in \u001b[0;36mfrombytes\u001b[0;34m(mode, size, data, decoder_name, *args)\u001b[0m\n\u001b[1;32m   2740\u001b[0m \u001b[0;34m\u001b[0m\u001b[0m\n\u001b[1;32m   2741\u001b[0m     \u001b[0mim\u001b[0m \u001b[0;34m=\u001b[0m \u001b[0mnew\u001b[0m\u001b[0;34m(\u001b[0m\u001b[0mmode\u001b[0m\u001b[0;34m,\u001b[0m \u001b[0msize\u001b[0m\u001b[0;34m)\u001b[0m\u001b[0;34m\u001b[0m\u001b[0;34m\u001b[0m\u001b[0m\n\u001b[0;32m-> 2742\u001b[0;31m     \u001b[0mim\u001b[0m\u001b[0;34m.\u001b[0m\u001b[0mfrombytes\u001b[0m\u001b[0;34m(\u001b[0m\u001b[0mdata\u001b[0m\u001b[0;34m,\u001b[0m \u001b[0mdecoder_name\u001b[0m\u001b[0;34m,\u001b[0m \u001b[0margs\u001b[0m\u001b[0;34m)\u001b[0m\u001b[0;34m\u001b[0m\u001b[0;34m\u001b[0m\u001b[0m\n\u001b[0m\u001b[1;32m   2743\u001b[0m     \u001b[0;32mreturn\u001b[0m \u001b[0mim\u001b[0m\u001b[0;34m\u001b[0m\u001b[0;34m\u001b[0m\u001b[0m\n\u001b[1;32m   2744\u001b[0m \u001b[0;34m\u001b[0m\u001b[0m\n",
            "\u001b[0;32m/usr/local/lib/python3.10/dist-packages/PIL/Image.py\u001b[0m in \u001b[0;36mfrombytes\u001b[0;34m(self, data, decoder_name, *args)\u001b[0m\n\u001b[1;32m    808\u001b[0m \u001b[0;34m\u001b[0m\u001b[0m\n\u001b[1;32m    809\u001b[0m         \u001b[0;32mif\u001b[0m \u001b[0ms\u001b[0m\u001b[0;34m[\u001b[0m\u001b[0;36m0\u001b[0m\u001b[0;34m]\u001b[0m \u001b[0;34m>=\u001b[0m \u001b[0;36m0\u001b[0m\u001b[0;34m:\u001b[0m\u001b[0;34m\u001b[0m\u001b[0;34m\u001b[0m\u001b[0m\n\u001b[0;32m--> 810\u001b[0;31m             \u001b[0;32mraise\u001b[0m \u001b[0mValueError\u001b[0m\u001b[0;34m(\u001b[0m\u001b[0;34m\"not enough image data\"\u001b[0m\u001b[0;34m)\u001b[0m\u001b[0;34m\u001b[0m\u001b[0;34m\u001b[0m\u001b[0m\n\u001b[0m\u001b[1;32m    811\u001b[0m         \u001b[0;32mif\u001b[0m \u001b[0ms\u001b[0m\u001b[0;34m[\u001b[0m\u001b[0;36m1\u001b[0m\u001b[0;34m]\u001b[0m \u001b[0;34m!=\u001b[0m \u001b[0;36m0\u001b[0m\u001b[0;34m:\u001b[0m\u001b[0;34m\u001b[0m\u001b[0;34m\u001b[0m\u001b[0m\n\u001b[1;32m    812\u001b[0m             \u001b[0;32mraise\u001b[0m \u001b[0mValueError\u001b[0m\u001b[0;34m(\u001b[0m\u001b[0;34m\"cannot decode image data\"\u001b[0m\u001b[0;34m)\u001b[0m\u001b[0;34m\u001b[0m\u001b[0;34m\u001b[0m\u001b[0m\n",
            "\u001b[0;31mValueError\u001b[0m: not enough image data"
          ]
        }
      ],
      "source": [
        "data_generator = ImageDataGenerator(       #Parameters for data augmentation\n",
        "    rotation_range = 20,\n",
        "    shear_range = 0.2,\n",
        "    horizontal_flip = True\n",
        ")\n",
        "\n",
        "cnt_path = r'/content/drive/MyDrive/BREAST_CANCER/DETECT/benign/'\n",
        "size = 224\n",
        "img_list = []\n",
        "images = os.listdir(cnt_path)\n",
        "for _, img_name in enumerate(images):\n",
        "    if (img_name.split('.')[1] == 'png'):\n",
        "        img = io.imread(cnt_path + img_name)\n",
        "        img = Image.fromarray(img, 'RGB')\n",
        "        img = img.resize((size,size))\n",
        "        img_list.append(np.array(img))\n",
        "img_array = np.array(img_list)\n",
        "i = 0\n",
        "for _ in data_generator.flow(img_array, batch_size=8, save_to_dir= r'aug_data/benign',\n",
        "                             save_prefix='aug', save_format='png'):\n",
        "    i += 1\n",
        "    if i > 200:\n",
        "        break"
      ]
    },
    {
      "cell_type": "code",
      "execution_count": null,
      "metadata": {
        "id": "OAnhxgu5nTKM"
      },
      "outputs": [],
      "source": [
        "def aug_transform_feature(data):              #Transform dataset using resize, rescale, reshape\n",
        "    images, labels = [],[]\n",
        "    size=128\n",
        "    for img,label in data:\n",
        "        images.append((cv2.resize(img,(size,size)))/255)\n",
        "        labels.append(label)\n",
        "    img_array = np.array(images)\n",
        "    X = img_array.reshape(img_array.shape[0],img_array.shape[1],img_array.shape[2],1)\n",
        "    return X, labels"
      ]
    },
    {
      "cell_type": "code",
      "execution_count": null,
      "metadata": {
        "colab": {
          "base_uri": "https://localhost:8080/",
          "height": 320
        },
        "id": "kMUQ3n-NnTmj",
        "outputId": "94180899-1f49-4034-8109-5a2a72016c85"
      },
      "outputs": [
        {
          "output_type": "error",
          "ename": "FileNotFoundError",
          "evalue": "ignored",
          "traceback": [
            "\u001b[0;31m---------------------------------------------------------------------------\u001b[0m",
            "\u001b[0;31mFileNotFoundError\u001b[0m                         Traceback (most recent call last)",
            "\u001b[0;32m<ipython-input-9-71135f6bef10>\u001b[0m in \u001b[0;36m<cell line: 1>\u001b[0;34m()\u001b[0m\n\u001b[0;32m----> 1\u001b[0;31m \u001b[0maug_data\u001b[0m \u001b[0;34m=\u001b[0m \u001b[0mextract_feature\u001b[0m\u001b[0;34m(\u001b[0m\u001b[0;34m\"aug_data/benign\"\u001b[0m\u001b[0;34m,\u001b[0m\u001b[0;36m0\u001b[0m\u001b[0;34m)\u001b[0m\u001b[0;34m\u001b[0m\u001b[0;34m\u001b[0m\u001b[0m\n\u001b[0m\u001b[1;32m      2\u001b[0m \u001b[0maug_data\u001b[0m\u001b[0;34m.\u001b[0m\u001b[0mextend\u001b[0m\u001b[0;34m(\u001b[0m\u001b[0mextract_feature\u001b[0m\u001b[0;34m(\u001b[0m\u001b[0;34m\"aug_data/malignant\"\u001b[0m\u001b[0;34m,\u001b[0m\u001b[0;36m1\u001b[0m\u001b[0;34m)\u001b[0m\u001b[0;34m)\u001b[0m\u001b[0;34m\u001b[0m\u001b[0;34m\u001b[0m\u001b[0m\n",
            "\u001b[0;32m<ipython-input-3-0d4bc02af501>\u001b[0m in \u001b[0;36mextract_feature\u001b[0;34m(path, label)\u001b[0m\n\u001b[1;32m      1\u001b[0m \u001b[0;32mdef\u001b[0m \u001b[0mextract_feature\u001b[0m\u001b[0;34m(\u001b[0m\u001b[0mpath\u001b[0m\u001b[0;34m,\u001b[0m \u001b[0mlabel\u001b[0m\u001b[0;34m)\u001b[0m\u001b[0;34m:\u001b[0m         \u001b[0;31m#Load the images from given path and labeling\u001b[0m\u001b[0;34m\u001b[0m\u001b[0;34m\u001b[0m\u001b[0m\n\u001b[1;32m      2\u001b[0m     \u001b[0mdata\u001b[0m \u001b[0;34m=\u001b[0m \u001b[0;34m[\u001b[0m\u001b[0;34m]\u001b[0m\u001b[0;34m\u001b[0m\u001b[0;34m\u001b[0m\u001b[0m\n\u001b[0;32m----> 3\u001b[0;31m     \u001b[0;32mfor\u001b[0m \u001b[0mimg\u001b[0m \u001b[0;32min\u001b[0m \u001b[0mos\u001b[0m\u001b[0;34m.\u001b[0m\u001b[0mlistdir\u001b[0m\u001b[0;34m(\u001b[0m\u001b[0mpath\u001b[0m\u001b[0;34m)\u001b[0m\u001b[0;34m:\u001b[0m\u001b[0;34m\u001b[0m\u001b[0;34m\u001b[0m\u001b[0m\n\u001b[0m\u001b[1;32m      4\u001b[0m         \u001b[0mimage\u001b[0m \u001b[0;34m=\u001b[0m \u001b[0mcv2\u001b[0m\u001b[0;34m.\u001b[0m\u001b[0mimread\u001b[0m\u001b[0;34m(\u001b[0m\u001b[0mos\u001b[0m\u001b[0;34m.\u001b[0m\u001b[0mpath\u001b[0m\u001b[0;34m.\u001b[0m\u001b[0mjoin\u001b[0m\u001b[0;34m(\u001b[0m\u001b[0mpath\u001b[0m\u001b[0;34m,\u001b[0m \u001b[0mimg\u001b[0m\u001b[0;34m)\u001b[0m\u001b[0;34m,\u001b[0m \u001b[0;36m0\u001b[0m\u001b[0;34m)\u001b[0m\u001b[0;34m\u001b[0m\u001b[0;34m\u001b[0m\u001b[0m\n\u001b[1;32m      5\u001b[0m         \u001b[0;32mif\u001b[0m \u001b[0mimage\u001b[0m \u001b[0;32mis\u001b[0m \u001b[0;32mnot\u001b[0m \u001b[0;32mNone\u001b[0m\u001b[0;34m:\u001b[0m\u001b[0;34m\u001b[0m\u001b[0;34m\u001b[0m\u001b[0m\n",
            "\u001b[0;31mFileNotFoundError\u001b[0m: [Errno 2] No such file or directory: 'aug_data/benign'"
          ]
        }
      ],
      "source": [
        "aug_data = extract_feature(\"aug_data/benign\",0)\n",
        "aug_data.extend(extract_feature(\"aug_data/malignant\",1))"
      ]
    },
    {
      "cell_type": "code",
      "execution_count": null,
      "metadata": {
        "colab": {
          "base_uri": "https://localhost:8080/",
          "height": 190
        },
        "id": "MnSGWEI0nUGE",
        "outputId": "94fb9c3c-2777-416f-d83d-47ccc5ba901f"
      },
      "outputs": [
        {
          "output_type": "error",
          "ename": "NameError",
          "evalue": "ignored",
          "traceback": [
            "\u001b[0;31m---------------------------------------------------------------------------\u001b[0m",
            "\u001b[0;31mNameError\u001b[0m                                 Traceback (most recent call last)",
            "\u001b[0;32m<ipython-input-10-eaa540ebf3ef>\u001b[0m in \u001b[0;36m<cell line: 1>\u001b[0;34m()\u001b[0m\n\u001b[0;32m----> 1\u001b[0;31m \u001b[0mx\u001b[0m\u001b[0;34m,\u001b[0m \u001b[0mlabel\u001b[0m \u001b[0;34m=\u001b[0m \u001b[0maug_transform_feature\u001b[0m\u001b[0;34m(\u001b[0m\u001b[0maug_data\u001b[0m\u001b[0;34m)\u001b[0m\u001b[0;34m\u001b[0m\u001b[0;34m\u001b[0m\u001b[0m\n\u001b[0m\u001b[1;32m      2\u001b[0m \u001b[0mx\u001b[0m\u001b[0;34m.\u001b[0m\u001b[0mshape\u001b[0m\u001b[0;34m\u001b[0m\u001b[0;34m\u001b[0m\u001b[0m\n",
            "\u001b[0;31mNameError\u001b[0m: name 'aug_data' is not defined"
          ]
        }
      ],
      "source": [
        "x, label = aug_transform_feature(aug_data)\n",
        "x.shape"
      ]
    },
    {
      "cell_type": "code",
      "execution_count": null,
      "metadata": {
        "id": "W3tG2VTrnnyA",
        "colab": {
          "base_uri": "https://localhost:8080/",
          "height": 172
        },
        "outputId": "3b3ce787-4d81-417d-db89-a3755fc07eb3"
      },
      "outputs": [
        {
          "output_type": "error",
          "ename": "NameError",
          "evalue": "ignored",
          "traceback": [
            "\u001b[0;31m---------------------------------------------------------------------------\u001b[0m",
            "\u001b[0;31mNameError\u001b[0m                                 Traceback (most recent call last)",
            "\u001b[0;32m<ipython-input-11-15b7b2a6e705>\u001b[0m in \u001b[0;36m<cell line: 1>\u001b[0;34m()\u001b[0m\n\u001b[0;32m----> 1\u001b[0;31m \u001b[0mx_train\u001b[0m\u001b[0;34m,\u001b[0m \u001b[0mx_test\u001b[0m\u001b[0;34m,\u001b[0m \u001b[0my_train\u001b[0m\u001b[0;34m,\u001b[0m \u001b[0my_test\u001b[0m \u001b[0;34m=\u001b[0m \u001b[0mtrain_test_split\u001b[0m\u001b[0;34m(\u001b[0m\u001b[0mx\u001b[0m \u001b[0;34m,\u001b[0m \u001b[0mlabel\u001b[0m\u001b[0;34m,\u001b[0m \u001b[0mtrain_size\u001b[0m\u001b[0;34m=\u001b[0m\u001b[0;36m0.75\u001b[0m\u001b[0;34m,\u001b[0m \u001b[0mrandom_state\u001b[0m\u001b[0;34m=\u001b[0m\u001b[0;36m42\u001b[0m\u001b[0;34m)\u001b[0m\u001b[0;34m\u001b[0m\u001b[0;34m\u001b[0m\u001b[0m\n\u001b[0m",
            "\u001b[0;31mNameError\u001b[0m: name 'x' is not defined"
          ]
        }
      ],
      "source": [
        "x_train, x_test, y_train, y_test = train_test_split(x , label, train_size=0.75, random_state=42)"
      ]
    },
    {
      "cell_type": "markdown",
      "metadata": {
        "id": "woh-BZwVnrR7"
      },
      "source": [
        "**Function for classification report of any model**"
      ]
    },
    {
      "cell_type": "code",
      "execution_count": null,
      "metadata": {
        "id": "XtLtrp94ntsM"
      },
      "outputs": [],
      "source": [
        "def report(model, aug = False):\n",
        "    if aug:\n",
        "        xtest = x_test\n",
        "        y_true = y_test\n",
        "    else:\n",
        "        xtest = X_test\n",
        "        y_true = Y_test\n",
        "    y_pred = []\n",
        "    for i in model.predict(xtest,batch_size=10,verbose=0):\n",
        "        y_pred.append(np.argmax(i))\n",
        "    print(classification_report(y_true, y_pred, target_names= ['benign','malignant']))"
      ]
    },
    {
      "cell_type": "markdown",
      "metadata": {
        "id": "79Z3a9jhn14p"
      },
      "source": [
        "# **BASE MODEL**"
      ]
    },
    {
      "cell_type": "code",
      "execution_count": null,
      "metadata": {
        "id": "RY7hvp_Un5Ht",
        "colab": {
          "base_uri": "https://localhost:8080/"
        },
        "outputId": "6687a8c9-1006-4639-d56b-3388adfd79f1"
      },
      "outputs": [
        {
          "output_type": "stream",
          "name": "stdout",
          "text": [
            "Model: \"sequential\"\n",
            "_________________________________________________________________\n",
            " Layer (type)                Output Shape              Param #   \n",
            "=================================================================\n",
            " conv2d (Conv2D)             (None, 128, 128, 16)      272       \n",
            "                                                                 \n",
            " max_pooling2d (MaxPooling2D  (None, 64, 64, 16)       0         \n",
            " )                                                               \n",
            "                                                                 \n",
            " conv2d_1 (Conv2D)           (None, 64, 64, 32)        8224      \n",
            "                                                                 \n",
            " max_pooling2d_1 (MaxPooling  (None, 32, 32, 32)       0         \n",
            " 2D)                                                             \n",
            "                                                                 \n",
            " conv2d_2 (Conv2D)           (None, 32, 32, 64)        32832     \n",
            "                                                                 \n",
            " max_pooling2d_2 (MaxPooling  (None, 16, 16, 64)       0         \n",
            " 2D)                                                             \n",
            "                                                                 \n",
            " batch_normalization (BatchN  (None, 16, 16, 64)       256       \n",
            " ormalization)                                                   \n",
            "                                                                 \n",
            " flatten (Flatten)           (None, 16384)             0         \n",
            "                                                                 \n",
            " dense (Dense)               (None, 128)               2097280   \n",
            "                                                                 \n",
            " dropout (Dropout)           (None, 128)               0         \n",
            "                                                                 \n",
            " dense_1 (Dense)             (None, 64)                8256      \n",
            "                                                                 \n",
            " dropout_1 (Dropout)         (None, 64)                0         \n",
            "                                                                 \n",
            " dense_2 (Dense)             (None, 32)                2080      \n",
            "                                                                 \n",
            " dropout_2 (Dropout)         (None, 32)                0         \n",
            "                                                                 \n",
            " dense_3 (Dense)             (None, 2)                 66        \n",
            "                                                                 \n",
            "=================================================================\n",
            "Total params: 2,149,266\n",
            "Trainable params: 2,149,138\n",
            "Non-trainable params: 128\n",
            "_________________________________________________________________\n"
          ]
        }
      ],
      "source": [
        "#First Base Model\n",
        "model1 = Sequential([\n",
        "    layers.Conv2D(16, 4, padding = 'same', activation = 'relu', input_shape=(128,128,1)),\n",
        "    layers.MaxPooling2D(),\n",
        "    layers.Conv2D(32, 4, padding = 'same', activation = 'relu'),\n",
        "    layers.MaxPooling2D(),\n",
        "    layers.Conv2D(64, 4, padding = 'same', activation = 'relu'),\n",
        "    layers.MaxPooling2D(),\n",
        "    layers.BatchNormalization(),\n",
        "    layers.Flatten(),\n",
        "    layers.Dense(128, activation = 'relu'),\n",
        "    layers.Dropout(0.3),\n",
        "    layers.Dense(64, activation = 'relu'),\n",
        "    layers.Dropout(0.3),\n",
        "    layers.Dense(32, activation = 'relu'),\n",
        "    layers.Dropout(0.3),\n",
        "    layers.Dense(2, activation = 'softmax')\n",
        "])\n",
        "\n",
        "#Compile the model with optimizer and metrics\n",
        "model1.compile(optimizer = 'adam',\n",
        "              loss = tf.keras.losses.SparseCategoricalCrossentropy(from_logits = True),\n",
        "              metrics = ['accuracy'])\n",
        "\n",
        "#Review the model summary\n",
        "model1.summary()"
      ]
    },
    {
      "cell_type": "code",
      "execution_count": null,
      "metadata": {
        "id": "RKJBay76n_hP",
        "colab": {
          "base_uri": "https://localhost:8080/"
        },
        "outputId": "ebc7ea7d-e3bf-4026-f9e8-fb21dd3caaad"
      },
      "outputs": [
        {
          "output_type": "stream",
          "name": "stdout",
          "text": [
            "Epoch 1/25\n",
            "31/31 - 31s - loss: 0.6822 - accuracy: 0.6382 - val_loss: 0.6750 - val_accuracy: 0.6921 - 31s/epoch - 1s/step\n",
            "Epoch 2/25\n",
            "31/31 - 28s - loss: 0.5994 - accuracy: 0.6758 - val_loss: 0.6715 - val_accuracy: 0.6921 - 28s/epoch - 915ms/step\n",
            "Epoch 3/25\n",
            "31/31 - 27s - loss: 0.5429 - accuracy: 0.7185 - val_loss: 0.6786 - val_accuracy: 0.7073 - 27s/epoch - 887ms/step\n",
            "Epoch 4/25\n",
            "31/31 - 27s - loss: 0.4851 - accuracy: 0.7693 - val_loss: 0.7406 - val_accuracy: 0.3079 - 27s/epoch - 864ms/step\n",
            "Epoch 5/25\n",
            "31/31 - 26s - loss: 0.4051 - accuracy: 0.8089 - val_loss: 0.6893 - val_accuracy: 0.5305 - 26s/epoch - 854ms/step\n",
            "Epoch 6/25\n",
            "31/31 - 28s - loss: 0.2880 - accuracy: 0.8913 - val_loss: 0.6816 - val_accuracy: 0.5183 - 28s/epoch - 917ms/step\n",
            "Epoch 7/25\n",
            "31/31 - 27s - loss: 0.2280 - accuracy: 0.9065 - val_loss: 0.7156 - val_accuracy: 0.4695 - 27s/epoch - 884ms/step\n",
            "Epoch 8/25\n",
            "31/31 - 29s - loss: 0.2209 - accuracy: 0.9126 - val_loss: 0.6170 - val_accuracy: 0.5884 - 29s/epoch - 927ms/step\n",
            "Epoch 9/25\n",
            "31/31 - 28s - loss: 0.1773 - accuracy: 0.9360 - val_loss: 0.9436 - val_accuracy: 0.3933 - 28s/epoch - 906ms/step\n",
            "Epoch 10/25\n",
            "31/31 - 28s - loss: 0.1728 - accuracy: 0.9360 - val_loss: 0.6202 - val_accuracy: 0.6067 - 28s/epoch - 893ms/step\n",
            "Epoch 11/25\n",
            "31/31 - 29s - loss: 0.0886 - accuracy: 0.9695 - val_loss: 0.9513 - val_accuracy: 0.5213 - 29s/epoch - 936ms/step\n",
            "Epoch 12/25\n",
            "31/31 - 29s - loss: 0.0738 - accuracy: 0.9715 - val_loss: 0.7739 - val_accuracy: 0.5701 - 29s/epoch - 939ms/step\n",
            "Epoch 13/25\n",
            "31/31 - 29s - loss: 0.0674 - accuracy: 0.9736 - val_loss: 0.9012 - val_accuracy: 0.5335 - 29s/epoch - 933ms/step\n",
            "Epoch 14/25\n",
            "31/31 - 29s - loss: 0.0634 - accuracy: 0.9787 - val_loss: 0.7330 - val_accuracy: 0.6433 - 29s/epoch - 920ms/step\n",
            "Epoch 15/25\n",
            "31/31 - 28s - loss: 0.0686 - accuracy: 0.9787 - val_loss: 0.6702 - val_accuracy: 0.6921 - 28s/epoch - 917ms/step\n",
            "Epoch 16/25\n",
            "31/31 - 26s - loss: 0.0865 - accuracy: 0.9726 - val_loss: 0.4134 - val_accuracy: 0.8506 - 26s/epoch - 829ms/step\n",
            "Epoch 17/25\n",
            "31/31 - 27s - loss: 0.0622 - accuracy: 0.9766 - val_loss: 0.4897 - val_accuracy: 0.8567 - 27s/epoch - 862ms/step\n",
            "Epoch 18/25\n",
            "31/31 - 31s - loss: 0.0432 - accuracy: 0.9868 - val_loss: 0.4408 - val_accuracy: 0.8445 - 31s/epoch - 987ms/step\n",
            "Epoch 19/25\n",
            "31/31 - 27s - loss: 0.0452 - accuracy: 0.9868 - val_loss: 0.4808 - val_accuracy: 0.8293 - 27s/epoch - 874ms/step\n",
            "Epoch 20/25\n",
            "31/31 - 28s - loss: 0.0515 - accuracy: 0.9868 - val_loss: 0.8766 - val_accuracy: 0.7896 - 28s/epoch - 896ms/step\n",
            "Epoch 21/25\n",
            "31/31 - 28s - loss: 0.0209 - accuracy: 0.9919 - val_loss: 0.5488 - val_accuracy: 0.8293 - 28s/epoch - 891ms/step\n",
            "Epoch 22/25\n",
            "31/31 - 26s - loss: 0.0121 - accuracy: 0.9959 - val_loss: 0.8218 - val_accuracy: 0.8354 - 26s/epoch - 842ms/step\n",
            "Epoch 23/25\n",
            "31/31 - 27s - loss: 0.0140 - accuracy: 0.9929 - val_loss: 0.8242 - val_accuracy: 0.8110 - 27s/epoch - 863ms/step\n",
            "Epoch 24/25\n",
            "31/31 - 28s - loss: 0.0120 - accuracy: 0.9980 - val_loss: 0.8423 - val_accuracy: 0.8232 - 28s/epoch - 891ms/step\n",
            "Epoch 25/25\n",
            "31/31 - 29s - loss: 0.0218 - accuracy: 0.9929 - val_loss: 1.2675 - val_accuracy: 0.7470 - 29s/epoch - 922ms/step\n"
          ]
        }
      ],
      "source": [
        "#Train the model\n",
        "result = model1.fit(np.array(X_train), np.array(Y_train), epochs = 25,\n",
        "                    validation_data=(X_test, np.array(Y_test)), verbose = 2)"
      ]
    },
    {
      "cell_type": "code",
      "execution_count": null,
      "metadata": {
        "id": "idO41eNPoCOa",
        "colab": {
          "base_uri": "https://localhost:8080/",
          "height": 468
        },
        "outputId": "06ad29cd-07ab-4ed5-ed88-2a9377c8e568"
      },
      "outputs": [
        {
          "output_type": "display_data",
          "data": {
            "text/plain": [
              "<Figure size 1500x500 with 2 Axes>"
            ],
            "image/png": "[encoded data removed]"
          },
          "metadata": {}
        }
      ],
      "source": [
        "#Model performance\n",
        "accuracy = result.history['accuracy']\n",
        "val_accuracy = result.history['val_accuracy']\n",
        "loss = result.history['loss']\n",
        "val_loss = result.history['val_loss']\n",
        "\n",
        "epochs = range(25)\n",
        "\n",
        "plt.figure(figsize=(15, 5))\n",
        "plt.subplot(1, 2, 1)\n",
        "plt.plot(epochs, accuracy, label='Training Accuracy')\n",
        "plt.plot(epochs, val_accuracy, label='Validation Accuracy')\n",
        "plt.legend(loc='lower right')\n",
        "plt.title('Model Accuracy')\n",
        "plt.subplot(1, 2, 2)\n",
        "plt.plot(epochs, loss, label='Training Loss')\n",
        "plt.plot(epochs, val_loss, label='Validation Loss')\n",
        "plt.legend(loc='upper right')\n",
        "plt.title('Model Loss')\n",
        "plt.show()"
      ]
    },
    {
      "cell_type": "code",
      "execution_count": null,
      "metadata": {
        "id": "RlBEmeVOoFQh",
        "colab": {
          "base_uri": "https://localhost:8080/"
        },
        "outputId": "8785f9b9-95de-45bc-e7d1-82c6306daf1a"
      },
      "outputs": [
        {
          "output_type": "stream",
          "name": "stdout",
          "text": [
            "              precision    recall  f1-score   support\n",
            "\n",
            "      benign       0.86      0.75      0.80       227\n",
            "   malignant       0.57      0.73      0.64       101\n",
            "\n",
            "    accuracy                           0.75       328\n",
            "   macro avg       0.72      0.74      0.72       328\n",
            "weighted avg       0.77      0.75      0.75       328\n",
            "\n"
          ]
        }
      ],
      "source": [
        "report(model1)"
      ]
    },
    {
      "cell_type": "markdown",
      "metadata": {
        "id": "EWrGi2F3oL8s"
      },
      "source": [
        "# **BASE Model with Augmentation**"
      ]
    },
    {
      "cell_type": "code",
      "execution_count": null,
      "metadata": {
        "id": "LOAtf2mcoOgF",
        "colab": {
          "base_uri": "https://localhost:8080/"
        },
        "outputId": "cd5c9d7f-2eff-42ac-e394-a7a0a261be3e"
      },
      "outputs": [
        {
          "output_type": "stream",
          "name": "stdout",
          "text": [
            "Model: \"sequential_2\"\n",
            "_________________________________________________________________\n",
            " Layer (type)                Output Shape              Param #   \n",
            "=================================================================\n",
            " conv2d_8 (Conv2D)           (None, 128, 128, 16)      160       \n",
            "                                                                 \n",
            " max_pooling2d_6 (MaxPooling  (None, 64, 64, 16)       0         \n",
            " 2D)                                                             \n",
            "                                                                 \n",
            " conv2d_9 (Conv2D)           (None, 64, 64, 32)        4640      \n",
            "                                                                 \n",
            " max_pooling2d_7 (MaxPooling  (None, 32, 32, 32)       0         \n",
            " 2D)                                                             \n",
            "                                                                 \n",
            " conv2d_10 (Conv2D)          (None, 32, 32, 64)        18496     \n",
            "                                                                 \n",
            " max_pooling2d_8 (MaxPooling  (None, 16, 16, 64)       0         \n",
            " 2D)                                                             \n",
            "                                                                 \n",
            " batch_normalization_6 (Batc  (None, 16, 16, 64)       256       \n",
            " hNormalization)                                                 \n",
            "                                                                 \n",
            " flatten_2 (Flatten)         (None, 16384)             0         \n",
            "                                                                 \n",
            " dense_7 (Dense)             (None, 128)               2097280   \n",
            "                                                                 \n",
            " dropout_5 (Dropout)         (None, 128)               0         \n",
            "                                                                 \n",
            " dense_8 (Dense)             (None, 64)                8256      \n",
            "                                                                 \n",
            " dropout_6 (Dropout)         (None, 64)                0         \n",
            "                                                                 \n",
            " dense_9 (Dense)             (None, 32)                2080      \n",
            "                                                                 \n",
            " dropout_7 (Dropout)         (None, 32)                0         \n",
            "                                                                 \n",
            " dense_10 (Dense)            (None, 2)                 66        \n",
            "                                                                 \n",
            "=================================================================\n",
            "Total params: 2,131,234\n",
            "Trainable params: 2,131,106\n",
            "Non-trainable params: 128\n",
            "_________________________________________________________________\n"
          ]
        }
      ],
      "source": [
        "#First base model\n",
        "model2 = Sequential([\n",
        "    layers.Conv2D(16, 3, padding = 'same', activation = 'relu', input_shape=(128,128,1)),\n",
        "    layers.MaxPooling2D(),\n",
        "    layers.Conv2D(32, 3, padding = 'same', activation = 'relu'),\n",
        "    layers.MaxPooling2D(),\n",
        "    layers.Conv2D(64, 3, padding = 'same', activation = 'relu'),\n",
        "    layers.MaxPooling2D(),\n",
        "    layers.BatchNormalization(),\n",
        "    layers.Flatten(),\n",
        "    layers.Dense(128, activation = 'relu'),\n",
        "    layers.Dropout(0.3),\n",
        "    layers.Dense(64, activation = 'relu'),\n",
        "    layers.Dropout(0.3),\n",
        "    layers.Dense(32, activation = 'relu'),\n",
        "    layers.Dropout(0.3),\n",
        "    layers.Dense(2, activation = 'softmax')\n",
        "])\n",
        "\n",
        "#Compile the model with optimizer and metrics\n",
        "model2.compile(optimizer = 'adam',\n",
        "              loss = tf.keras.losses.SparseCategoricalCrossentropy(from_logits = True),\n",
        "              metrics = ['accuracy'])\n",
        "\n",
        "#Review the model summary\n",
        "model2.summary()"
      ]
    },
    {
      "cell_type": "code",
      "execution_count": null,
      "metadata": {
        "colab": {
          "background_save": true
        },
        "id": "4fhiY0U5oRmE",
        "outputId": "7d9038b9-a52f-4edf-b013-4c6077b3b634"
      },
      "outputs": [
        {
          "name": "stdout",
          "output_type": "stream",
          "text": [
            "Epoch 1/50\n",
            "31/31 - 21s - loss: 0.7485 - accuracy: 0.6220 - val_loss: 0.6740 - val_accuracy: 0.6921 - 21s/epoch - 688ms/step\n",
            "Epoch 2/50\n",
            "31/31 - 19s - loss: 0.6273 - accuracy: 0.6748 - val_loss: 0.6595 - val_accuracy: 0.6921 - 19s/epoch - 628ms/step\n",
            "Epoch 3/50\n",
            "31/31 - 18s - loss: 0.5805 - accuracy: 0.7002 - val_loss: 0.6369 - val_accuracy: 0.6921 - 18s/epoch - 583ms/step\n",
            "Epoch 4/50\n",
            "31/31 - 18s - loss: 0.5356 - accuracy: 0.7348 - val_loss: 0.6269 - val_accuracy: 0.6921 - 18s/epoch - 589ms/step\n",
            "Epoch 5/50\n",
            "31/31 - 19s - loss: 0.4965 - accuracy: 0.7561 - val_loss: 0.6267 - val_accuracy: 0.6982 - 19s/epoch - 625ms/step\n",
            "Epoch 6/50\n",
            "31/31 - 19s - loss: 0.4339 - accuracy: 0.8008 - val_loss: 0.6008 - val_accuracy: 0.7470 - 19s/epoch - 614ms/step\n",
            "Epoch 7/50\n",
            "31/31 - 19s - loss: 0.3779 - accuracy: 0.8262 - val_loss: 0.5773 - val_accuracy: 0.7012 - 19s/epoch - 615ms/step\n",
            "Epoch 8/50\n",
            "31/31 - 18s - loss: 0.3063 - accuracy: 0.8608 - val_loss: 0.5316 - val_accuracy: 0.7622 - 18s/epoch - 576ms/step\n",
            "Epoch 9/50\n",
            "31/31 - 19s - loss: 0.2935 - accuracy: 0.8780 - val_loss: 0.5560 - val_accuracy: 0.7012 - 19s/epoch - 629ms/step\n",
            "Epoch 10/50\n",
            "31/31 - 19s - loss: 0.2014 - accuracy: 0.9207 - val_loss: 0.4847 - val_accuracy: 0.7835 - 19s/epoch - 609ms/step\n",
            "Epoch 11/50\n",
            "31/31 - 18s - loss: 0.1582 - accuracy: 0.9451 - val_loss: 0.4835 - val_accuracy: 0.8049 - 18s/epoch - 584ms/step\n",
            "Epoch 12/50\n",
            "31/31 - 19s - loss: 0.1223 - accuracy: 0.9563 - val_loss: 0.5292 - val_accuracy: 0.7774 - 19s/epoch - 629ms/step\n",
            "Epoch 13/50\n",
            "31/31 - 19s - loss: 0.0859 - accuracy: 0.9665 - val_loss: 0.4852 - val_accuracy: 0.7805 - 19s/epoch - 617ms/step\n",
            "Epoch 14/50\n",
            "31/31 - 19s - loss: 0.0957 - accuracy: 0.9665 - val_loss: 0.4308 - val_accuracy: 0.8110 - 19s/epoch - 613ms/step\n",
            "Epoch 15/50\n",
            "31/31 - 20s - loss: 0.0851 - accuracy: 0.9634 - val_loss: 0.4661 - val_accuracy: 0.7957 - 20s/epoch - 641ms/step\n",
            "Epoch 16/50\n",
            "31/31 - 18s - loss: 0.0902 - accuracy: 0.9746 - val_loss: 0.4843 - val_accuracy: 0.8049 - 18s/epoch - 581ms/step\n",
            "Epoch 17/50\n",
            "31/31 - 20s - loss: 0.0899 - accuracy: 0.9756 - val_loss: 0.4953 - val_accuracy: 0.8079 - 20s/epoch - 632ms/step\n",
            "Epoch 18/50\n",
            "31/31 - 19s - loss: 0.0829 - accuracy: 0.9746 - val_loss: 0.5858 - val_accuracy: 0.7652 - 19s/epoch - 627ms/step\n",
            "Epoch 19/50\n",
            "31/31 - 19s - loss: 0.0482 - accuracy: 0.9878 - val_loss: 0.5225 - val_accuracy: 0.8323 - 19s/epoch - 616ms/step\n",
            "Epoch 20/50\n",
            "31/31 - 20s - loss: 0.0394 - accuracy: 0.9868 - val_loss: 0.6357 - val_accuracy: 0.7805 - 20s/epoch - 638ms/step\n",
            "Epoch 21/50\n",
            "31/31 - 18s - loss: 0.0628 - accuracy: 0.9756 - val_loss: 0.9252 - val_accuracy: 0.7591 - 18s/epoch - 582ms/step\n",
            "Epoch 22/50\n",
            "31/31 - 18s - loss: 0.0444 - accuracy: 0.9858 - val_loss: 0.5697 - val_accuracy: 0.8689 - 18s/epoch - 576ms/step\n",
            "Epoch 23/50\n",
            "31/31 - 22s - loss: 0.0294 - accuracy: 0.9898 - val_loss: 1.0006 - val_accuracy: 0.8201 - 22s/epoch - 695ms/step\n",
            "Epoch 24/50\n",
            "31/31 - 20s - loss: 0.0207 - accuracy: 0.9939 - val_loss: 0.9546 - val_accuracy: 0.8140 - 20s/epoch - 640ms/step\n",
            "Epoch 25/50\n",
            "31/31 - 20s - loss: 0.0125 - accuracy: 0.9970 - val_loss: 0.9435 - val_accuracy: 0.8415 - 20s/epoch - 653ms/step\n",
            "Epoch 26/50\n",
            "31/31 - 19s - loss: 0.0132 - accuracy: 0.9959 - val_loss: 1.5849 - val_accuracy: 0.7652 - 19s/epoch - 613ms/step\n",
            "Epoch 27/50\n",
            "31/31 - 20s - loss: 0.0220 - accuracy: 0.9919 - val_loss: 1.1019 - val_accuracy: 0.8079 - 20s/epoch - 635ms/step\n",
            "Epoch 28/50\n",
            "31/31 - 22s - loss: 0.0166 - accuracy: 0.9970 - val_loss: 1.2111 - val_accuracy: 0.8110 - 22s/epoch - 719ms/step\n",
            "Epoch 29/50\n",
            "31/31 - 20s - loss: 0.0291 - accuracy: 0.9888 - val_loss: 1.0019 - val_accuracy: 0.8323 - 20s/epoch - 630ms/step\n",
            "Epoch 30/50\n",
            "31/31 - 20s - loss: 0.0476 - accuracy: 0.9848 - val_loss: 0.9448 - val_accuracy: 0.8079 - 20s/epoch - 641ms/step\n",
            "Epoch 31/50\n",
            "31/31 - 20s - loss: 0.0666 - accuracy: 0.9787 - val_loss: 1.6741 - val_accuracy: 0.7835 - 20s/epoch - 650ms/step\n",
            "Epoch 32/50\n",
            "31/31 - 20s - loss: 0.0248 - accuracy: 0.9919 - val_loss: 1.8100 - val_accuracy: 0.7835 - 20s/epoch - 636ms/step\n",
            "Epoch 33/50\n",
            "31/31 - 21s - loss: 0.0422 - accuracy: 0.9878 - val_loss: 1.9902 - val_accuracy: 0.7470 - 21s/epoch - 672ms/step\n",
            "Epoch 34/50\n",
            "31/31 - 19s - loss: 0.0335 - accuracy: 0.9888 - val_loss: 1.4443 - val_accuracy: 0.8293 - 19s/epoch - 623ms/step\n",
            "Epoch 35/50\n",
            "31/31 - 19s - loss: 0.0112 - accuracy: 0.9970 - val_loss: 1.4597 - val_accuracy: 0.8262 - 19s/epoch - 621ms/step\n",
            "Epoch 36/50\n",
            "31/31 - 20s - loss: 0.0162 - accuracy: 0.9970 - val_loss: 1.3813 - val_accuracy: 0.8262 - 20s/epoch - 648ms/step\n",
            "Epoch 37/50\n",
            "31/31 - 19s - loss: 0.0123 - accuracy: 0.9949 - val_loss: 1.4398 - val_accuracy: 0.8201 - 19s/epoch - 618ms/step\n",
            "Epoch 38/50\n",
            "31/31 - 21s - loss: 0.0088 - accuracy: 0.9980 - val_loss: 1.5457 - val_accuracy: 0.8354 - 21s/epoch - 679ms/step\n",
            "Epoch 39/50\n",
            "31/31 - 19s - loss: 0.0208 - accuracy: 0.9939 - val_loss: 1.4647 - val_accuracy: 0.8110 - 19s/epoch - 623ms/step\n",
            "Epoch 40/50\n",
            "31/31 - 19s - loss: 0.0136 - accuracy: 0.9970 - val_loss: 1.3130 - val_accuracy: 0.8140 - 19s/epoch - 617ms/step\n",
            "Epoch 41/50\n",
            "31/31 - 20s - loss: 0.0062 - accuracy: 0.9980 - val_loss: 1.4903 - val_accuracy: 0.8140 - 20s/epoch - 641ms/step\n",
            "Epoch 42/50\n",
            "31/31 - 18s - loss: 0.0066 - accuracy: 0.9980 - val_loss: 1.5336 - val_accuracy: 0.8201 - 18s/epoch - 587ms/step\n",
            "Epoch 43/50\n",
            "31/31 - 21s - loss: 0.0184 - accuracy: 0.9929 - val_loss: 1.5733 - val_accuracy: 0.8110 - 21s/epoch - 671ms/step\n",
            "Epoch 44/50\n",
            "31/31 - 19s - loss: 0.0107 - accuracy: 0.9959 - val_loss: 1.8009 - val_accuracy: 0.7896 - 19s/epoch - 628ms/step\n",
            "Epoch 45/50\n",
            "31/31 - 20s - loss: 0.0089 - accuracy: 0.9980 - val_loss: 1.5245 - val_accuracy: 0.8110 - 20s/epoch - 639ms/step\n",
            "Epoch 46/50\n",
            "31/31 - 20s - loss: 0.0046 - accuracy: 0.9990 - val_loss: 1.1697 - val_accuracy: 0.8354 - 20s/epoch - 648ms/step\n",
            "Epoch 47/50\n",
            "31/31 - 19s - loss: 0.0060 - accuracy: 0.9980 - val_loss: 1.3049 - val_accuracy: 0.8323 - 19s/epoch - 613ms/step\n",
            "Epoch 48/50\n",
            "31/31 - 19s - loss: 0.0161 - accuracy: 0.9939 - val_loss: 1.4957 - val_accuracy: 0.8293 - 19s/epoch - 609ms/step\n",
            "Epoch 49/50\n",
            "31/31 - 19s - loss: 0.0075 - accuracy: 0.9949 - val_loss: 1.3407 - val_accuracy: 0.8293 - 19s/epoch - 597ms/step\n",
            "Epoch 50/50\n",
            "31/31 - 18s - loss: 0.0127 - accuracy: 0.9959 - val_loss: 1.1276 - val_accuracy: 0.7957 - 18s/epoch - 576ms/step\n"
          ]
        }
      ],
      "source": [
        "#Train the model\n",
        "result = model2.fit(np.array(x_train), np.array(y_train), epochs = 50,\n",
        "                    validation_data=(x_test, np.array(y_test)), verbose = 2)"
      ]
    },
    {
      "cell_type": "code",
      "execution_count": null,
      "metadata": {
        "id": "_RaKUKtgoV_1",
        "colab": {
          "base_uri": "https://localhost:8080/",
          "height": 833
        },
        "outputId": "f32dc63d-dea9-4120-c869-c7ad2ee2547d"
      },
      "outputs": [
        {
          "output_type": "error",
          "ename": "ValueError",
          "evalue": "ignored",
          "traceback": [
            "\u001b[0;31m---------------------------------------------------------------------------\u001b[0m",
            "\u001b[0;31mValueError\u001b[0m                                Traceback (most recent call last)",
            "\u001b[0;32m<ipython-input-20-0eb1b0a7132c>\u001b[0m in \u001b[0;36m<cell line: 11>\u001b[0;34m()\u001b[0m\n\u001b[1;32m      9\u001b[0m \u001b[0mplt\u001b[0m\u001b[0;34m.\u001b[0m\u001b[0mfigure\u001b[0m\u001b[0;34m(\u001b[0m\u001b[0mfigsize\u001b[0m\u001b[0;34m=\u001b[0m\u001b[0;34m(\u001b[0m\u001b[0;36m15\u001b[0m\u001b[0;34m,\u001b[0m \u001b[0;36m5\u001b[0m\u001b[0;34m)\u001b[0m\u001b[0;34m)\u001b[0m\u001b[0;34m\u001b[0m\u001b[0;34m\u001b[0m\u001b[0m\n\u001b[1;32m     10\u001b[0m \u001b[0mplt\u001b[0m\u001b[0;34m.\u001b[0m\u001b[0msubplot\u001b[0m\u001b[0;34m(\u001b[0m\u001b[0;36m1\u001b[0m\u001b[0;34m,\u001b[0m \u001b[0;36m2\u001b[0m\u001b[0;34m,\u001b[0m \u001b[0;36m1\u001b[0m\u001b[0;34m)\u001b[0m\u001b[0;34m\u001b[0m\u001b[0;34m\u001b[0m\u001b[0m\n\u001b[0;32m---> 11\u001b[0;31m \u001b[0mplt\u001b[0m\u001b[0;34m.\u001b[0m\u001b[0mplot\u001b[0m\u001b[0;34m(\u001b[0m\u001b[0mepochs\u001b[0m\u001b[0;34m,\u001b[0m \u001b[0maccuracy\u001b[0m\u001b[0;34m,\u001b[0m \u001b[0mlabel\u001b[0m\u001b[0;34m=\u001b[0m\u001b[0;34m'Training Accuracy'\u001b[0m\u001b[0;34m)\u001b[0m\u001b[0;34m\u001b[0m\u001b[0;34m\u001b[0m\u001b[0m\n\u001b[0m\u001b[1;32m     12\u001b[0m \u001b[0mplt\u001b[0m\u001b[0;34m.\u001b[0m\u001b[0mplot\u001b[0m\u001b[0;34m(\u001b[0m\u001b[0mepochs\u001b[0m\u001b[0;34m,\u001b[0m \u001b[0mval_accuracy\u001b[0m\u001b[0;34m,\u001b[0m \u001b[0mlabel\u001b[0m\u001b[0;34m=\u001b[0m\u001b[0;34m'Validation Accuracy'\u001b[0m\u001b[0;34m)\u001b[0m\u001b[0;34m\u001b[0m\u001b[0;34m\u001b[0m\u001b[0m\n\u001b[1;32m     13\u001b[0m \u001b[0mplt\u001b[0m\u001b[0;34m.\u001b[0m\u001b[0mlegend\u001b[0m\u001b[0;34m(\u001b[0m\u001b[0mloc\u001b[0m\u001b[0;34m=\u001b[0m\u001b[0;34m'lower right'\u001b[0m\u001b[0;34m)\u001b[0m\u001b[0;34m\u001b[0m\u001b[0;34m\u001b[0m\u001b[0m\n",
            "\u001b[0;32m/usr/local/lib/python3.10/dist-packages/matplotlib/pyplot.py\u001b[0m in \u001b[0;36mplot\u001b[0;34m(scalex, scaley, data, *args, **kwargs)\u001b[0m\n\u001b[1;32m   2810\u001b[0m \u001b[0;34m@\u001b[0m\u001b[0m_copy_docstring_and_deprecators\u001b[0m\u001b[0;34m(\u001b[0m\u001b[0mAxes\u001b[0m\u001b[0;34m.\u001b[0m\u001b[0mplot\u001b[0m\u001b[0;34m)\u001b[0m\u001b[0;34m\u001b[0m\u001b[0;34m\u001b[0m\u001b[0m\n\u001b[1;32m   2811\u001b[0m \u001b[0;32mdef\u001b[0m \u001b[0mplot\u001b[0m\u001b[0;34m(\u001b[0m\u001b[0;34m*\u001b[0m\u001b[0margs\u001b[0m\u001b[0;34m,\u001b[0m \u001b[0mscalex\u001b[0m\u001b[0;34m=\u001b[0m\u001b[0;32mTrue\u001b[0m\u001b[0;34m,\u001b[0m \u001b[0mscaley\u001b[0m\u001b[0;34m=\u001b[0m\u001b[0;32mTrue\u001b[0m\u001b[0;34m,\u001b[0m \u001b[0mdata\u001b[0m\u001b[0;34m=\u001b[0m\u001b[0;32mNone\u001b[0m\u001b[0;34m,\u001b[0m \u001b[0;34m**\u001b[0m\u001b[0mkwargs\u001b[0m\u001b[0;34m)\u001b[0m\u001b[0;34m:\u001b[0m\u001b[0;34m\u001b[0m\u001b[0;34m\u001b[0m\u001b[0m\n\u001b[0;32m-> 2812\u001b[0;31m     return gca().plot(\n\u001b[0m\u001b[1;32m   2813\u001b[0m         \u001b[0;34m*\u001b[0m\u001b[0margs\u001b[0m\u001b[0;34m,\u001b[0m \u001b[0mscalex\u001b[0m\u001b[0;34m=\u001b[0m\u001b[0mscalex\u001b[0m\u001b[0;34m,\u001b[0m \u001b[0mscaley\u001b[0m\u001b[0;34m=\u001b[0m\u001b[0mscaley\u001b[0m\u001b[0;34m,\u001b[0m\u001b[0;34m\u001b[0m\u001b[0;34m\u001b[0m\u001b[0m\n\u001b[1;32m   2814\u001b[0m         **({\"data\": data} if data is not None else {}), **kwargs)\n",
            "\u001b[0;32m/usr/local/lib/python3.10/dist-packages/matplotlib/axes/_axes.py\u001b[0m in \u001b[0;36mplot\u001b[0;34m(self, scalex, scaley, data, *args, **kwargs)\u001b[0m\n\u001b[1;32m   1686\u001b[0m         \"\"\"\n\u001b[1;32m   1687\u001b[0m         \u001b[0mkwargs\u001b[0m \u001b[0;34m=\u001b[0m \u001b[0mcbook\u001b[0m\u001b[0;34m.\u001b[0m\u001b[0mnormalize_kwargs\u001b[0m\u001b[0;34m(\u001b[0m\u001b[0mkwargs\u001b[0m\u001b[0;34m,\u001b[0m \u001b[0mmlines\u001b[0m\u001b[0;34m.\u001b[0m\u001b[0mLine2D\u001b[0m\u001b[0;34m)\u001b[0m\u001b[0;34m\u001b[0m\u001b[0;34m\u001b[0m\u001b[0m\n\u001b[0;32m-> 1688\u001b[0;31m         \u001b[0mlines\u001b[0m \u001b[0;34m=\u001b[0m \u001b[0;34m[\u001b[0m\u001b[0;34m*\u001b[0m\u001b[0mself\u001b[0m\u001b[0;34m.\u001b[0m\u001b[0m_get_lines\u001b[0m\u001b[0;34m(\u001b[0m\u001b[0;34m*\u001b[0m\u001b[0margs\u001b[0m\u001b[0;34m,\u001b[0m \u001b[0mdata\u001b[0m\u001b[0;34m=\u001b[0m\u001b[0mdata\u001b[0m\u001b[0;34m,\u001b[0m \u001b[0;34m**\u001b[0m\u001b[0mkwargs\u001b[0m\u001b[0;34m)\u001b[0m\u001b[0;34m]\u001b[0m\u001b[0;34m\u001b[0m\u001b[0;34m\u001b[0m\u001b[0m\n\u001b[0m\u001b[1;32m   1689\u001b[0m         \u001b[0;32mfor\u001b[0m \u001b[0mline\u001b[0m \u001b[0;32min\u001b[0m \u001b[0mlines\u001b[0m\u001b[0;34m:\u001b[0m\u001b[0;34m\u001b[0m\u001b[0;34m\u001b[0m\u001b[0m\n\u001b[1;32m   1690\u001b[0m             \u001b[0mself\u001b[0m\u001b[0;34m.\u001b[0m\u001b[0madd_line\u001b[0m\u001b[0;34m(\u001b[0m\u001b[0mline\u001b[0m\u001b[0;34m)\u001b[0m\u001b[0;34m\u001b[0m\u001b[0;34m\u001b[0m\u001b[0m\n",
            "\u001b[0;32m/usr/local/lib/python3.10/dist-packages/matplotlib/axes/_base.py\u001b[0m in \u001b[0;36m__call__\u001b[0;34m(self, data, *args, **kwargs)\u001b[0m\n\u001b[1;32m    309\u001b[0m                 \u001b[0mthis\u001b[0m \u001b[0;34m+=\u001b[0m \u001b[0margs\u001b[0m\u001b[0;34m[\u001b[0m\u001b[0;36m0\u001b[0m\u001b[0;34m]\u001b[0m\u001b[0;34m,\u001b[0m\u001b[0;34m\u001b[0m\u001b[0;34m\u001b[0m\u001b[0m\n\u001b[1;32m    310\u001b[0m                 \u001b[0margs\u001b[0m \u001b[0;34m=\u001b[0m \u001b[0margs\u001b[0m\u001b[0;34m[\u001b[0m\u001b[0;36m1\u001b[0m\u001b[0;34m:\u001b[0m\u001b[0;34m]\u001b[0m\u001b[0;34m\u001b[0m\u001b[0;34m\u001b[0m\u001b[0m\n\u001b[0;32m--> 311\u001b[0;31m             yield from self._plot_args(\n\u001b[0m\u001b[1;32m    312\u001b[0m                 this, kwargs, ambiguous_fmt_datakey=ambiguous_fmt_datakey)\n\u001b[1;32m    313\u001b[0m \u001b[0;34m\u001b[0m\u001b[0m\n",
            "\u001b[0;32m/usr/local/lib/python3.10/dist-packages/matplotlib/axes/_base.py\u001b[0m in \u001b[0;36m_plot_args\u001b[0;34m(self, tup, kwargs, return_kwargs, ambiguous_fmt_datakey)\u001b[0m\n\u001b[1;32m    502\u001b[0m \u001b[0;34m\u001b[0m\u001b[0m\n\u001b[1;32m    503\u001b[0m         \u001b[0;32mif\u001b[0m \u001b[0mx\u001b[0m\u001b[0;34m.\u001b[0m\u001b[0mshape\u001b[0m\u001b[0;34m[\u001b[0m\u001b[0;36m0\u001b[0m\u001b[0;34m]\u001b[0m \u001b[0;34m!=\u001b[0m \u001b[0my\u001b[0m\u001b[0;34m.\u001b[0m\u001b[0mshape\u001b[0m\u001b[0;34m[\u001b[0m\u001b[0;36m0\u001b[0m\u001b[0;34m]\u001b[0m\u001b[0;34m:\u001b[0m\u001b[0;34m\u001b[0m\u001b[0;34m\u001b[0m\u001b[0m\n\u001b[0;32m--> 504\u001b[0;31m             raise ValueError(f\"x and y must have same first dimension, but \"\n\u001b[0m\u001b[1;32m    505\u001b[0m                              f\"have shapes {x.shape} and {y.shape}\")\n\u001b[1;32m    506\u001b[0m         \u001b[0;32mif\u001b[0m \u001b[0mx\u001b[0m\u001b[0;34m.\u001b[0m\u001b[0mndim\u001b[0m \u001b[0;34m>\u001b[0m \u001b[0;36m2\u001b[0m \u001b[0;32mor\u001b[0m \u001b[0my\u001b[0m\u001b[0;34m.\u001b[0m\u001b[0mndim\u001b[0m \u001b[0;34m>\u001b[0m \u001b[0;36m2\u001b[0m\u001b[0;34m:\u001b[0m\u001b[0;34m\u001b[0m\u001b[0;34m\u001b[0m\u001b[0m\n",
            "\u001b[0;31mValueError\u001b[0m: x and y must have same first dimension, but have shapes (50,) and (25,)"
          ]
        },
        {
          "output_type": "display_data",
          "data": {
            "text/plain": [
              "<Figure size 1500x500 with 1 Axes>"
            ],
            "image/png": "[encoded data removed]"
          },
          "metadata": {}
        }
      ],
      "source": [
        "#Model performance\n",
        "accuracy = result.history['accuracy']\n",
        "val_accuracy = result.history['val_accuracy']\n",
        "loss = result.history['loss']\n",
        "val_loss = result.history['val_loss']\n",
        "\n",
        "epochs = range(50)\n",
        "\n",
        "plt.figure(figsize=(15, 5))\n",
        "plt.subplot(1, 2, 1)\n",
        "plt.plot(epochs, accuracy, label='Training Accuracy')\n",
        "plt.plot(epochs, val_accuracy, label='Validation Accuracy')\n",
        "plt.legend(loc='lower right')\n",
        "plt.title('Model Accuracy')\n",
        "plt.subplot(1, 2, 2)\n",
        "plt.plot(epochs, loss, label='Training Loss')\n",
        "plt.plot(epochs, val_loss, label='Validation Loss')\n",
        "plt.legend(loc='upper right')\n",
        "plt.title('Model Loss')\n",
        "plt.show()"
      ]
    },
    {
      "cell_type": "code",
      "execution_count": null,
      "metadata": {
        "id": "zkN4Nj_voast"
      },
      "outputs": [],
      "source": [
        "report(model2, True)"
      ]
    },
    {
      "cell_type": "markdown",
      "metadata": {
        "id": "ZVA7OcP8oeNo"
      },
      "source": [
        "# **BASE Model with Keras Tuner**"
      ]
    },
    {
      "cell_type": "code",
      "execution_count": null,
      "metadata": {
        "id": "HBIeFUIJoiH5"
      },
      "outputs": [],
      "source": [
        "def tuned_model(hp):  #Function for tuning model\n",
        "  model = keras.Sequential([\n",
        "    layers.Conv2D(\n",
        "        filters=hp.Int('conv_1_filter', min_value=16, max_value=64, step=16),\n",
        "        kernel_size=hp.Choice('conv_1_kernel', values = [4,5]),\n",
        "        activation='relu',\n",
        "        input_shape=(128,128,1)\n",
        "    ),\n",
        "    layers.MaxPooling2D(),\n",
        "    layers.Conv2D(\n",
        "        filters=hp.Int('conv_1_filter', min_value=64, max_value=128, step=16),\n",
        "        kernel_size=hp.Choice('conv_1_kernel', values = [4,5]),\n",
        "        activation='relu',\n",
        "        input_shape=(128,128,1)),\n",
        "    layers.MaxPooling2D(),\n",
        "    layers.Flatten(),\n",
        "    layers.Dense(units = hp.Int('dense_1_units', min_value=32, max_value=128, step=32), activation='relu'),\n",
        "    layers.Dense(2, activation='softmax')\n",
        "  ])\n",
        "\n",
        "  model.compile(optimizer='adam',\n",
        "              loss='sparse_categorical_crossentropy',\n",
        "              metrics=['accuracy'])\n",
        "\n",
        "  return model"
      ]
    },
    {
      "cell_type": "code",
      "execution_count": null,
      "metadata": {
        "id": "lWRbV_Q9olnE",
        "colab": {
          "base_uri": "https://localhost:8080/",
          "height": 190
        },
        "outputId": "5e366684-288c-416b-eb41-fdf6d18e3656"
      },
      "outputs": [
        {
          "output_type": "error",
          "ename": "NameError",
          "evalue": "ignored",
          "traceback": [
            "\u001b[0;31m---------------------------------------------------------------------------\u001b[0m",
            "\u001b[0;31mNameError\u001b[0m                                 Traceback (most recent call last)",
            "\u001b[0;32m<ipython-input-22-5eccac4ddb41>\u001b[0m in \u001b[0;36m<cell line: 1>\u001b[0;34m()\u001b[0m\n\u001b[0;32m----> 1\u001b[0;31m random_search = RandomSearch(tuned_model, objective='val_accuracy',\n\u001b[0m\u001b[1;32m      2\u001b[0m                           max_trials = 3, directory = 'output', project_name = \"bcc\")\n",
            "\u001b[0;31mNameError\u001b[0m: name 'RandomSearch' is not defined"
          ]
        }
      ],
      "source": [
        "random_search = RandomSearch(tuned_model, objective='val_accuracy',\n",
        "                          max_trials = 3, directory = 'output', project_name = \"bcc\")"
      ]
    },
    {
      "cell_type": "code",
      "execution_count": null,
      "metadata": {
        "id": "wZX394gEooMo",
        "colab": {
          "base_uri": "https://localhost:8080/",
          "height": 190
        },
        "outputId": "7f70605d-e70c-4c5e-fcc8-a071759936bd"
      },
      "outputs": [
        {
          "output_type": "error",
          "ename": "NameError",
          "evalue": "ignored",
          "traceback": [
            "\u001b[0;31m---------------------------------------------------------------------------\u001b[0m",
            "\u001b[0;31mNameError\u001b[0m                                 Traceback (most recent call last)",
            "\u001b[0;32m<ipython-input-23-377278306f15>\u001b[0m in \u001b[0;36m<cell line: 2>\u001b[0;34m()\u001b[0m\n\u001b[1;32m      1\u001b[0m \u001b[0;31m#Search best parameters by training model\u001b[0m\u001b[0;34m\u001b[0m\u001b[0;34m\u001b[0m\u001b[0m\n\u001b[0;32m----> 2\u001b[0;31m \u001b[0mrandom_search\u001b[0m\u001b[0;34m.\u001b[0m\u001b[0msearch\u001b[0m\u001b[0;34m(\u001b[0m\u001b[0mnp\u001b[0m\u001b[0;34m.\u001b[0m\u001b[0marray\u001b[0m\u001b[0;34m(\u001b[0m\u001b[0mX_train\u001b[0m\u001b[0;34m)\u001b[0m\u001b[0;34m,\u001b[0m \u001b[0mnp\u001b[0m\u001b[0;34m.\u001b[0m\u001b[0marray\u001b[0m\u001b[0;34m(\u001b[0m\u001b[0mY_train\u001b[0m\u001b[0;34m)\u001b[0m\u001b[0;34m,\u001b[0m \u001b[0mepochs\u001b[0m \u001b[0;34m=\u001b[0m \u001b[0;36m5\u001b[0m\u001b[0;34m,\u001b[0m \u001b[0mvalidation_data\u001b[0m\u001b[0;34m=\u001b[0m\u001b[0;34m(\u001b[0m\u001b[0mX_test\u001b[0m\u001b[0;34m,\u001b[0m \u001b[0mnp\u001b[0m\u001b[0;34m.\u001b[0m\u001b[0marray\u001b[0m\u001b[0;34m(\u001b[0m\u001b[0mY_test\u001b[0m\u001b[0;34m)\u001b[0m\u001b[0;34m)\u001b[0m\u001b[0;34m)\u001b[0m\u001b[0;34m\u001b[0m\u001b[0;34m\u001b[0m\u001b[0m\n\u001b[0m",
            "\u001b[0;31mNameError\u001b[0m: name 'random_search' is not defined"
          ]
        }
      ],
      "source": [
        "#Search best parameters by training model\n",
        "random_search.search(np.array(X_train), np.array(Y_train), epochs = 5, validation_data=(X_test, np.array(Y_test)))"
      ]
    },
    {
      "cell_type": "code",
      "execution_count": null,
      "metadata": {
        "id": "Htc-ddUioq1J",
        "colab": {
          "base_uri": "https://localhost:8080/",
          "height": 190
        },
        "outputId": "302bc90b-e9cf-409d-8e05-95382cf66b04"
      },
      "outputs": [
        {
          "output_type": "error",
          "ename": "NameError",
          "evalue": "ignored",
          "traceback": [
            "\u001b[0;31m---------------------------------------------------------------------------\u001b[0m",
            "\u001b[0;31mNameError\u001b[0m                                 Traceback (most recent call last)",
            "\u001b[0;32m<ipython-input-24-779bf457bc1e>\u001b[0m in \u001b[0;36m<cell line: 1>\u001b[0;34m()\u001b[0m\n\u001b[0;32m----> 1\u001b[0;31m \u001b[0mmodel3\u001b[0m \u001b[0;34m=\u001b[0m \u001b[0mrandom_search\u001b[0m\u001b[0;34m.\u001b[0m\u001b[0mget_best_models\u001b[0m\u001b[0;34m(\u001b[0m\u001b[0mnum_models\u001b[0m\u001b[0;34m=\u001b[0m\u001b[0;36m1\u001b[0m\u001b[0;34m)\u001b[0m\u001b[0;34m[\u001b[0m\u001b[0;36m0\u001b[0m\u001b[0;34m]\u001b[0m  \u001b[0;31m#Find the best parameter model\u001b[0m\u001b[0;34m\u001b[0m\u001b[0;34m\u001b[0m\u001b[0m\n\u001b[0m\u001b[1;32m      2\u001b[0m \u001b[0mmodel3\u001b[0m\u001b[0;34m.\u001b[0m\u001b[0msummary\u001b[0m\u001b[0;34m(\u001b[0m\u001b[0;34m)\u001b[0m\u001b[0;34m\u001b[0m\u001b[0;34m\u001b[0m\u001b[0m\n",
            "\u001b[0;31mNameError\u001b[0m: name 'random_search' is not defined"
          ]
        }
      ],
      "source": [
        "model3 = random_search.get_best_models(num_models=1)[0]  #Find the best parameter model\n",
        "model3.summary()"
      ]
    },
    {
      "cell_type": "code",
      "execution_count": null,
      "metadata": {
        "id": "wgVSgMvlotd8",
        "colab": {
          "base_uri": "https://localhost:8080/",
          "height": 190
        },
        "outputId": "ea25684b-a496-4fa7-beac-9be6a1fe38dd"
      },
      "outputs": [
        {
          "output_type": "error",
          "ename": "NameError",
          "evalue": "ignored",
          "traceback": [
            "\u001b[0;31m---------------------------------------------------------------------------\u001b[0m",
            "\u001b[0;31mNameError\u001b[0m                                 Traceback (most recent call last)",
            "\u001b[0;32m<ipython-input-25-cc01e58f762e>\u001b[0m in \u001b[0;36m<cell line: 1>\u001b[0;34m()\u001b[0m\n\u001b[0;32m----> 1\u001b[0;31m result = model3.fit(np.array(X_train), np.array(Y_train), epochs = 25, \n\u001b[0m\u001b[1;32m      2\u001b[0m             validation_data=(X_test, np.array(Y_test)), initial_epoch=5)\n",
            "\u001b[0;31mNameError\u001b[0m: name 'model3' is not defined"
          ]
        }
      ],
      "source": [
        "result = model3.fit(np.array(X_train), np.array(Y_train), epochs = 25,\n",
        "            validation_data=(X_test, np.array(Y_test)), initial_epoch=5)"
      ]
    },
    {
      "cell_type": "code",
      "execution_count": null,
      "metadata": {
        "id": "J10vAG9Ao5QG"
      },
      "outputs": [],
      "source": [
        "report(model3)"
      ]
    },
    {
      "cell_type": "markdown",
      "metadata": {
        "id": "cBcNtvPWo64w"
      },
      "source": [
        "# **BASE Model with Keras Tuner & Augmentation**"
      ]
    },
    {
      "cell_type": "code",
      "execution_count": null,
      "metadata": {
        "id": "01FmcpBTo_Qr",
        "colab": {
          "base_uri": "https://localhost:8080/",
          "height": 190
        },
        "outputId": "189e1d7f-6670-4e9f-b5e2-2165fbdea329"
      },
      "outputs": [
        {
          "output_type": "error",
          "ename": "NameError",
          "evalue": "ignored",
          "traceback": [
            "\u001b[0;31m---------------------------------------------------------------------------\u001b[0m",
            "\u001b[0;31mNameError\u001b[0m                                 Traceback (most recent call last)",
            "\u001b[0;32m<ipython-input-26-0130ecdaab73>\u001b[0m in \u001b[0;36m<cell line: 1>\u001b[0;34m()\u001b[0m\n\u001b[0;32m----> 1\u001b[0;31m random_search = RandomSearch(tuned_model, objective='val_accuracy',\n\u001b[0m\u001b[1;32m      2\u001b[0m                           max_trials = 3, directory = 'output', project_name = \"augbcc\")\n",
            "\u001b[0;31mNameError\u001b[0m: name 'RandomSearch' is not defined"
          ]
        }
      ],
      "source": [
        "random_search = RandomSearch(tuned_model, objective='val_accuracy',\n",
        "                          max_trials = 3, directory = 'output', project_name = \"augbcc\")"
      ]
    },
    {
      "cell_type": "code",
      "execution_count": null,
      "metadata": {
        "id": "gVb7GlnppCaT",
        "colab": {
          "base_uri": "https://localhost:8080/",
          "height": 190
        },
        "outputId": "a4e26552-b2c3-4f35-917d-727c30f24942"
      },
      "outputs": [
        {
          "output_type": "error",
          "ename": "NameError",
          "evalue": "ignored",
          "traceback": [
            "\u001b[0;31m---------------------------------------------------------------------------\u001b[0m",
            "\u001b[0;31mNameError\u001b[0m                                 Traceback (most recent call last)",
            "\u001b[0;32m<ipython-input-27-f3e17120ee98>\u001b[0m in \u001b[0;36m<cell line: 2>\u001b[0;34m()\u001b[0m\n\u001b[1;32m      1\u001b[0m \u001b[0;31m#Search best parameters by training model\u001b[0m\u001b[0;34m\u001b[0m\u001b[0;34m\u001b[0m\u001b[0m\n\u001b[0;32m----> 2\u001b[0;31m \u001b[0mrandom_search\u001b[0m\u001b[0;34m.\u001b[0m\u001b[0msearch\u001b[0m\u001b[0;34m(\u001b[0m\u001b[0mnp\u001b[0m\u001b[0;34m.\u001b[0m\u001b[0marray\u001b[0m\u001b[0;34m(\u001b[0m\u001b[0mx_train\u001b[0m\u001b[0;34m)\u001b[0m\u001b[0;34m,\u001b[0m \u001b[0mnp\u001b[0m\u001b[0;34m.\u001b[0m\u001b[0marray\u001b[0m\u001b[0;34m(\u001b[0m\u001b[0my_train\u001b[0m\u001b[0;34m)\u001b[0m\u001b[0;34m,\u001b[0m \u001b[0mepochs\u001b[0m \u001b[0;34m=\u001b[0m \u001b[0;36m5\u001b[0m\u001b[0;34m,\u001b[0m \u001b[0mvalidation_data\u001b[0m\u001b[0;34m=\u001b[0m\u001b[0;34m(\u001b[0m\u001b[0mx_test\u001b[0m\u001b[0;34m,\u001b[0m \u001b[0mnp\u001b[0m\u001b[0;34m.\u001b[0m\u001b[0marray\u001b[0m\u001b[0;34m(\u001b[0m\u001b[0my_test\u001b[0m\u001b[0;34m)\u001b[0m\u001b[0;34m)\u001b[0m\u001b[0;34m)\u001b[0m\u001b[0;34m\u001b[0m\u001b[0;34m\u001b[0m\u001b[0m\n\u001b[0m",
            "\u001b[0;31mNameError\u001b[0m: name 'random_search' is not defined"
          ]
        }
      ],
      "source": [
        "#Search best parameters by training model\n",
        "random_search.search(np.array(x_train), np.array(y_train), epochs = 5, validation_data=(x_test, np.array(y_test)))"
      ]
    },
    {
      "cell_type": "code",
      "execution_count": null,
      "metadata": {
        "id": "IONdhRYcpE4n"
      },
      "outputs": [],
      "source": [
        "model4 = random_search.get_best_models(num_models=1)[0]   #Find the best parameter model\n",
        "model4.summary()"
      ]
    },
    {
      "cell_type": "code",
      "execution_count": null,
      "metadata": {
        "colab": {
          "background_save": true
        },
        "id": "MQTVJui7pH0q",
        "outputId": "2504bbf4-4aa2-4212-bf30-f19f135d5cd5"
      },
      "outputs": [
        {
          "name": "stdout",
          "output_type": "stream",
          "text": [
            "Epoch 6/15\n",
            "31/31 [==============================] - 87s 3s/step - loss: 0.1725 - accuracy: 0.9299 - val_loss: 0.7649 - val_accuracy: 0.8018\n",
            "Epoch 7/15\n",
            "31/31 [==============================] - 84s 3s/step - loss: 0.1246 - accuracy: 0.9553 - val_loss: 1.1713 - val_accuracy: 0.7622\n",
            "Epoch 8/15\n",
            "31/31 [==============================] - 83s 3s/step - loss: 0.0893 - accuracy: 0.9654 - val_loss: 0.9173 - val_accuracy: 0.8293\n",
            "Epoch 9/15\n",
            "31/31 [==============================] - 80s 3s/step - loss: 0.0742 - accuracy: 0.9776 - val_loss: 1.0758 - val_accuracy: 0.7713\n",
            "Epoch 10/15\n",
            "31/31 [==============================] - 83s 3s/step - loss: 0.0638 - accuracy: 0.9817 - val_loss: 1.2674 - val_accuracy: 0.7957\n",
            "Epoch 11/15\n",
            "31/31 [==============================] - 83s 3s/step - loss: 0.0334 - accuracy: 0.9868 - val_loss: 1.3122 - val_accuracy: 0.7957\n",
            "Epoch 12/15\n",
            "31/31 [==============================] - 84s 3s/step - loss: 0.0233 - accuracy: 0.9939 - val_loss: 1.4231 - val_accuracy: 0.7896\n",
            "Epoch 13/15\n",
            "31/31 [==============================] - 80s 3s/step - loss: 0.0133 - accuracy: 0.9959 - val_loss: 1.5185 - val_accuracy: 0.7774\n",
            "Epoch 14/15\n",
            "31/31 [==============================] - 88s 3s/step - loss: 0.0186 - accuracy: 0.9929 - val_loss: 1.4126 - val_accuracy: 0.7957\n",
            "Epoch 15/15\n",
            "31/31 [==============================] - 80s 3s/step - loss: 0.0111 - accuracy: 0.9970 - val_loss: 1.5813 - val_accuracy: 0.7744\n"
          ]
        }
      ],
      "source": [
        "result= model4.fit(np.array(x_train), np.array(y_train), epochs = 25,\n",
        "            validation_data=(x_test, np.array(y_test)), initial_epoch=5)"
      ]
    },
    {
      "cell_type": "code",
      "execution_count": null,
      "metadata": {
        "id": "hFrUh6v1pMLT"
      },
      "outputs": [],
      "source": [
        "report(model4, True)"
      ]
    },
    {
      "cell_type": "markdown",
      "metadata": {
        "id": "xM4pEA-ApXQQ"
      },
      "source": [
        "# **AlexNet**"
      ]
    },
    {
      "cell_type": "code",
      "execution_count": null,
      "metadata": {
        "id": "w2k9wjDlpZQj",
        "colab": {
          "base_uri": "https://localhost:8080/"
        },
        "outputId": "91d34653-a79e-4c87-9511-d2c3de1abac2"
      },
      "outputs": [
        {
          "output_type": "stream",
          "name": "stdout",
          "text": [
            "Model: \"sequential_1\"\n",
            "_________________________________________________________________\n",
            " Layer (type)                Output Shape              Param #   \n",
            "=================================================================\n",
            " conv2d_3 (Conv2D)           (None, 30, 30, 96)        11712     \n",
            "                                                                 \n",
            " batch_normalization_1 (Batc  (None, 30, 30, 96)       384       \n",
            " hNormalization)                                                 \n",
            "                                                                 \n",
            " max_pooling2d_3 (MaxPooling  (None, 14, 14, 96)       0         \n",
            " 2D)                                                             \n",
            "                                                                 \n",
            " conv2d_4 (Conv2D)           (None, 14, 14, 256)       614656    \n",
            "                                                                 \n",
            " batch_normalization_2 (Batc  (None, 14, 14, 256)      1024      \n",
            " hNormalization)                                                 \n",
            "                                                                 \n",
            " max_pooling2d_4 (MaxPooling  (None, 6, 6, 256)        0         \n",
            " 2D)                                                             \n",
            "                                                                 \n",
            " conv2d_5 (Conv2D)           (None, 6, 6, 384)         885120    \n",
            "                                                                 \n",
            " batch_normalization_3 (Batc  (None, 6, 6, 384)        1536      \n",
            " hNormalization)                                                 \n",
            "                                                                 \n",
            " conv2d_6 (Conv2D)           (None, 6, 6, 384)         1327488   \n",
            "                                                                 \n",
            " batch_normalization_4 (Batc  (None, 6, 6, 384)        1536      \n",
            " hNormalization)                                                 \n",
            "                                                                 \n",
            " conv2d_7 (Conv2D)           (None, 6, 6, 256)         884992    \n",
            "                                                                 \n",
            " batch_normalization_5 (Batc  (None, 6, 6, 256)        1024      \n",
            " hNormalization)                                                 \n",
            "                                                                 \n",
            " max_pooling2d_5 (MaxPooling  (None, 2, 2, 256)        0         \n",
            " 2D)                                                             \n",
            "                                                                 \n",
            " flatten_1 (Flatten)         (None, 1024)              0         \n",
            "                                                                 \n",
            " dense_4 (Dense)             (None, 4096)              4198400   \n",
            "                                                                 \n",
            " dropout_3 (Dropout)         (None, 4096)              0         \n",
            "                                                                 \n",
            " dense_5 (Dense)             (None, 4096)              16781312  \n",
            "                                                                 \n",
            " dropout_4 (Dropout)         (None, 4096)              0         \n",
            "                                                                 \n",
            " dense_6 (Dense)             (None, 2)                 8194      \n",
            "                                                                 \n",
            "=================================================================\n",
            "Total params: 24,717,378\n",
            "Trainable params: 24,714,626\n",
            "Non-trainable params: 2,752\n",
            "_________________________________________________________________\n"
          ]
        }
      ],
      "source": [
        "model5 = Sequential([\n",
        "    layers.Conv2D(filters=96, kernel_size=(11,11), strides=(4,4), activation='relu', input_shape=(128,128,1)),\n",
        "    layers.BatchNormalization(),\n",
        "    layers.MaxPool2D(pool_size=(3,3), strides=(2,2)),\n",
        "    layers.Conv2D(filters=256, kernel_size=(5,5), strides=(1,1), activation='relu', padding=\"same\"),\n",
        "    layers.BatchNormalization(),\n",
        "    layers.MaxPool2D(pool_size=(3,3), strides=(2,2)),\n",
        "    layers.Conv2D(filters=384, kernel_size=(3,3), strides=(1,1), activation='relu', padding=\"same\"),\n",
        "    layers.BatchNormalization(),\n",
        "    layers.Conv2D(filters=384, kernel_size=(3,3), strides=(1,1), activation='relu', padding=\"same\"),\n",
        "    layers.BatchNormalization(),\n",
        "    layers.Conv2D(filters=256, kernel_size=(3,3), strides=(1,1), activation='relu', padding=\"same\"),\n",
        "    layers.BatchNormalization(),\n",
        "    layers.MaxPool2D(pool_size=(3,3), strides=(2,2)),\n",
        "    layers.Flatten(),\n",
        "    layers.Dense(4096, activation='relu'),\n",
        "    layers.Dropout(0.5),\n",
        "    layers.Dense(4096, activation='relu'),\n",
        "    layers.Dropout(0.5),\n",
        "    layers.Dense(2, activation='softmax')\n",
        "])\n",
        "\n",
        "model5.compile(loss='sparse_categorical_crossentropy', optimizer='adam', metrics=['accuracy'])\n",
        "model5.summary()"
      ]
    },
    {
      "cell_type": "code",
      "execution_count": null,
      "metadata": {
        "id": "HX6AyO2jpckS",
        "colab": {
          "base_uri": "https://localhost:8080/"
        },
        "outputId": "b32e310d-edf5-43d4-a7a6-aa293197ef89"
      },
      "outputs": [
        {
          "output_type": "stream",
          "name": "stdout",
          "text": [
            "Epoch 1/25\n",
            "31/31 - 66s - loss: 3.7367 - accuracy: 0.5955 - val_loss: 0.8850 - val_accuracy: 0.6890 - 66s/epoch - 2s/step\n",
            "Epoch 2/25\n",
            "31/31 - 61s - loss: 0.9300 - accuracy: 0.6514 - val_loss: 0.7174 - val_accuracy: 0.6555 - 61s/epoch - 2s/step\n",
            "Epoch 3/25\n",
            "31/31 - 62s - loss: 0.6677 - accuracy: 0.6789 - val_loss: 0.7044 - val_accuracy: 0.5854 - 62s/epoch - 2s/step\n",
            "Epoch 4/25\n",
            "31/31 - 63s - loss: 0.5899 - accuracy: 0.7195 - val_loss: 0.9815 - val_accuracy: 0.6921 - 63s/epoch - 2s/step\n",
            "Epoch 5/25\n",
            "31/31 - 61s - loss: 0.5196 - accuracy: 0.7612 - val_loss: 1.0431 - val_accuracy: 0.5396 - 61s/epoch - 2s/step\n",
            "Epoch 6/25\n",
            "31/31 - 61s - loss: 0.5260 - accuracy: 0.7520 - val_loss: 1.0556 - val_accuracy: 0.5335 - 61s/epoch - 2s/step\n",
            "Epoch 7/25\n",
            "31/31 - 67s - loss: 0.4633 - accuracy: 0.7866 - val_loss: 1.0691 - val_accuracy: 0.6555 - 67s/epoch - 2s/step\n",
            "Epoch 8/25\n",
            "31/31 - 62s - loss: 0.4314 - accuracy: 0.8049 - val_loss: 1.2610 - val_accuracy: 0.6829 - 62s/epoch - 2s/step\n",
            "Epoch 9/25\n",
            "31/31 - 62s - loss: 0.4607 - accuracy: 0.8089 - val_loss: 0.7264 - val_accuracy: 0.6494 - 62s/epoch - 2s/step\n",
            "Epoch 10/25\n",
            "31/31 - 61s - loss: 0.3656 - accuracy: 0.8537 - val_loss: 0.9720 - val_accuracy: 0.7012 - 61s/epoch - 2s/step\n",
            "Epoch 11/25\n",
            "31/31 - 62s - loss: 0.3579 - accuracy: 0.8465 - val_loss: 0.7700 - val_accuracy: 0.7226 - 62s/epoch - 2s/step\n",
            "Epoch 12/25\n",
            "31/31 - 62s - loss: 0.3445 - accuracy: 0.8598 - val_loss: 0.7955 - val_accuracy: 0.6829 - 62s/epoch - 2s/step\n",
            "Epoch 13/25\n",
            "31/31 - 60s - loss: 0.3253 - accuracy: 0.8567 - val_loss: 0.8917 - val_accuracy: 0.6829 - 60s/epoch - 2s/step\n",
            "Epoch 14/25\n",
            "31/31 - 61s - loss: 0.3258 - accuracy: 0.8801 - val_loss: 0.5546 - val_accuracy: 0.7470 - 61s/epoch - 2s/step\n",
            "Epoch 15/25\n",
            "31/31 - 67s - loss: 0.2994 - accuracy: 0.8862 - val_loss: 0.4856 - val_accuracy: 0.7591 - 67s/epoch - 2s/step\n",
            "Epoch 16/25\n",
            "31/31 - 62s - loss: 0.2648 - accuracy: 0.8791 - val_loss: 1.5564 - val_accuracy: 0.7256 - 62s/epoch - 2s/step\n",
            "Epoch 17/25\n",
            "31/31 - 62s - loss: 0.2693 - accuracy: 0.8892 - val_loss: 0.7421 - val_accuracy: 0.7195 - 62s/epoch - 2s/step\n",
            "Epoch 18/25\n",
            "31/31 - 62s - loss: 0.2643 - accuracy: 0.8780 - val_loss: 1.1452 - val_accuracy: 0.5701 - 62s/epoch - 2s/step\n",
            "Epoch 19/25\n",
            "31/31 - 62s - loss: 0.2601 - accuracy: 0.8974 - val_loss: 0.3812 - val_accuracy: 0.8140 - 62s/epoch - 2s/step\n",
            "Epoch 20/25\n",
            "31/31 - 62s - loss: 0.2291 - accuracy: 0.9065 - val_loss: 0.7164 - val_accuracy: 0.7744 - 62s/epoch - 2s/step\n",
            "Epoch 21/25\n",
            "31/31 - 62s - loss: 0.2647 - accuracy: 0.9004 - val_loss: 0.4279 - val_accuracy: 0.8659 - 62s/epoch - 2s/step\n",
            "Epoch 22/25\n",
            "31/31 - 61s - loss: 0.1873 - accuracy: 0.9228 - val_loss: 0.5242 - val_accuracy: 0.8323 - 61s/epoch - 2s/step\n",
            "Epoch 23/25\n",
            "31/31 - 61s - loss: 0.1717 - accuracy: 0.9217 - val_loss: 0.5852 - val_accuracy: 0.8598 - 61s/epoch - 2s/step\n",
            "Epoch 24/25\n",
            "31/31 - 60s - loss: 0.1718 - accuracy: 0.9360 - val_loss: 0.5020 - val_accuracy: 0.8872 - 60s/epoch - 2s/step\n",
            "Epoch 25/25\n",
            "31/31 - 62s - loss: 0.1984 - accuracy: 0.9217 - val_loss: 1.4138 - val_accuracy: 0.6951 - 62s/epoch - 2s/step\n"
          ]
        },
        {
          "output_type": "execute_result",
          "data": {
            "text/plain": [
              "<keras.callbacks.History at 0x7f98b7ceb700>"
            ]
          },
          "metadata": {},
          "execution_count": 28
        }
      ],
      "source": [
        "model5.fit(np.array(X_train), np.array(Y_train), epochs = 25, validation_data=(X_test, np.array(Y_test)), verbose = 2,\n",
        "          validation_freq=1)"
      ]
    },
    {
      "cell_type": "code",
      "execution_count": null,
      "metadata": {
        "id": "AwNYVPIqpfV1",
        "colab": {
          "base_uri": "https://localhost:8080/"
        },
        "outputId": "2dc78b74-50e2-4eb7-d41b-376ffbffa216"
      },
      "outputs": [
        {
          "output_type": "stream",
          "name": "stdout",
          "text": [
            "              precision    recall  f1-score   support\n",
            "\n",
            "      benign       0.77      0.80      0.78       227\n",
            "   malignant       0.51      0.46      0.48       101\n",
            "\n",
            "    accuracy                           0.70       328\n",
            "   macro avg       0.64      0.63      0.63       328\n",
            "weighted avg       0.69      0.70      0.69       328\n",
            "\n"
          ]
        }
      ],
      "source": [
        "report(model5)"
      ]
    },
    {
      "cell_type": "markdown",
      "metadata": {
        "id": "1hXvPhkfpk2L"
      },
      "source": [
        "# **ResNet50**"
      ]
    },
    {
      "cell_type": "code",
      "execution_count": null,
      "metadata": {
        "id": "GBV7N0rtpm6C",
        "colab": {
          "base_uri": "https://localhost:8080/"
        },
        "outputId": "d09d6758-3f7c-4378-dbd2-014a83c9d742"
      },
      "outputs": [
        {
          "output_type": "stream",
          "name": "stdout",
          "text": [
            "Model: \"sequential_3\"\n",
            "_________________________________________________________________\n",
            " Layer (type)                Output Shape              Param #   \n",
            "=================================================================\n",
            " model (Functional)          (None, 32768)             23581440  \n",
            "                                                                 \n",
            " dense_11 (Dense)            (None, 2)                 65538     \n",
            "                                                                 \n",
            "=================================================================\n",
            "Total params: 23,646,978\n",
            "Trainable params: 65,538\n",
            "Non-trainable params: 23,581,440\n",
            "_________________________________________________________________\n"
          ]
        }
      ],
      "source": [
        "restnet = ResNet50(include_top = False, weights= None , input_shape=(128, 128, 1))\n",
        "output = restnet.layers[-1].output\n",
        "output = layers.Flatten()(output)\n",
        "\n",
        "restnet = Model(restnet.input, output)\n",
        "\n",
        "for layer in restnet.layers:\n",
        "    layer.trainable = False\n",
        "\n",
        "model6 = Sequential([\n",
        "            restnet,\n",
        "            layers.Dense(2, activation=\"softmax\")\n",
        "])\n",
        "\n",
        "model6.compile(loss = tf.keras.losses.SparseCategoricalCrossentropy(from_logits = True),\n",
        "optimizer='adam',\n",
        "metrics=['accuracy'])\n",
        "model6.summary()"
      ]
    },
    {
      "cell_type": "code",
      "execution_count": null,
      "metadata": {
        "id": "WHscMzjSppuO"
      },
      "outputs": [],
      "source": [
        "result = model6.fit(\n",
        "    np.array(X_train),\n",
        "    np.array(Y_train),\n",
        "    steps_per_epoch=len(X_train),\n",
        "    epochs=10,\n",
        "    validation_data=(X_test, np.array(Y_test)),\n",
        "    validation_steps=len(X_test),\n",
        "    verbose=2\n",
        ")"
      ]
    },
    {
      "cell_type": "code",
      "execution_count": null,
      "metadata": {
        "id": "KSzJZ9qOpsJ4"
      },
      "outputs": [],
      "source": [
        "report(model6)"
      ]
    },
    {
      "cell_type": "markdown",
      "metadata": {
        "id": "k5x9-y2RpwsE"
      },
      "source": [
        "# **DenseNet 201**"
      ]
    },
    {
      "cell_type": "code",
      "execution_count": null,
      "metadata": {
        "id": "EFxbOqybpy9o"
      },
      "outputs": [],
      "source": [
        "densenet = DenseNet201(include_top = False, weights = None , input_shape = (128, 128, 1))\n",
        "output = densenet.layers[-1].output\n",
        "output = keras.layers.Flatten()(output)\n",
        "\n",
        "densenet = Model(densenet.input, output)\n",
        "\n",
        "for layer in densenet.layers:\n",
        "    layer.trainable = False\n",
        "\n",
        "model7 = Sequential([\n",
        "            densenet,\n",
        "            layers.Dense(2, activation=\"softmax\")\n",
        "])\n",
        "\n",
        "model7.compile( loss = tf.keras.losses.SparseCategoricalCrossentropy(from_logits = True),\n",
        "optimizer='adam',\n",
        "metrics=[ 'accuracy'])\n",
        "model7.summary()"
      ]
    },
    {
      "cell_type": "code",
      "execution_count": null,
      "metadata": {
        "id": "qIrQfnWSp2J-"
      },
      "outputs": [],
      "source": [
        "result = model7.fit(\n",
        "    np.array(X_train),\n",
        "    np.array(Y_train),\n",
        "    steps_per_epoch=len(X_train),\n",
        "    epochs=10,\n",
        "    validation_data=(X_test, np.array(Y_test)),\n",
        "    validation_steps=len(Y_test),\n",
        "    verbose=2\n",
        ")"
      ]
    },
    {
      "cell_type": "code",
      "execution_count": null,
      "metadata": {
        "id": "9ShR2oMcqAXr"
      },
      "outputs": [],
      "source": [
        "report(model7)"
      ]
    },
    {
      "cell_type": "markdown",
      "metadata": {
        "id": "CqNhQYmjqGUy"
      },
      "source": [
        "# **VGG16**"
      ]
    },
    {
      "cell_type": "code",
      "execution_count": null,
      "metadata": {
        "id": "Jo4fs1XZqK8M"
      },
      "outputs": [],
      "source": [
        "X, labels = vgg_transform_feature(data)   #Call the function to transform and return with image array & label\n",
        "X_train, X_test, Y_train, Y_test = train_test_split(X , labels, train_size=0.75, random_state=42)"
      ]
    },
    {
      "cell_type": "code",
      "execution_count": null,
      "metadata": {
        "id": "66TJiZ-YqOHH"
      },
      "outputs": [],
      "source": [
        "vgg = VGG16(input_shape = (299, 299, 1), weights=None, include_top=False)\n",
        "\n",
        "for layer in vgg.layers:       #To freeze the previous layers\n",
        "  layer.trainable = False\n",
        "\n",
        "x = Flatten()(vgg.output)\n",
        "output = layers.Dense(2, activation='softmax')(x)\n",
        "\n",
        "model8 = Model(inputs=vgg.input, outputs=output)\n",
        "model8.compile(\n",
        "  loss=tf.keras.losses.SparseCategoricalCrossentropy(from_logits = True),\n",
        "  optimizer='adam',\n",
        "  metrics=['accuracy']\n",
        ")\n",
        "model8.summary()"
      ]
    },
    {
      "cell_type": "code",
      "execution_count": null,
      "metadata": {
        "colab": {
          "background_save": true
        },
        "id": "rAY9hkBKqRXt",
        "outputId": "bab29886-e7d0-4433-d893-db74708bc6fd"
      },
      "outputs": [
        {
          "name": "stdout",
          "output_type": "stream",
          "text": [
            "Epoch 1/10\n",
            "984/984 - 1443s - loss: 0.6239 - accuracy: 0.6789 - val_loss: 0.6002 - val_accuracy: 0.6951 - 1443s/epoch - 1s/step\n",
            "Epoch 2/10\n",
            "984/984 - 1413s - loss: 0.6118 - accuracy: 0.6890 - val_loss: 0.5966 - val_accuracy: 0.7256 - 1413s/epoch - 1s/step\n",
            "Epoch 3/10\n"
          ]
        }
      ],
      "source": [
        "result = model8.fit(\n",
        "    np.array(X_train),\n",
        "    np.array(Y_train),\n",
        "    steps_per_epoch=len(X_train),\n",
        "    epochs=10,\n",
        "    validation_data=(X_test, np.array(Y_test)),\n",
        "    validation_steps=len(Y_test),\n",
        "    verbose=2\n",
        ")"
      ]
    },
    {
      "cell_type": "code",
      "execution_count": null,
      "metadata": {
        "id": "apgM0JS_qUSo"
      },
      "outputs": [],
      "source": [
        "report(model8)"
      ]
    }
  ],
  "metadata": {
    "colab": {
      "provenance": []
    },
    "kernelspec": {
      "display_name": "Python 3",
      "name": "python3"
    },
    "language_info": {
      "name": "python"
    }
  },
  "nbformat": 4,
  "nbformat_minor": 0
}